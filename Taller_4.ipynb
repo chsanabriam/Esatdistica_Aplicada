{
  "nbformat": 4,
  "nbformat_minor": 0,
  "metadata": {
    "colab": {
      "name": "Taller_4.ipynb",
      "provenance": [],
      "authorship_tag": "ABX9TyP4NgwneaxmCQLbGWVgQMc6",
      "include_colab_link": true
    },
    "kernelspec": {
      "name": "python3",
      "display_name": "Python 3"
    }
  },
  "cells": [
    {
      "cell_type": "markdown",
      "metadata": {
        "id": "view-in-github",
        "colab_type": "text"
      },
      "source": [
        "<a href=\"https://colab.research.google.com/github/chsanabriam/Esatdistica_Aplicada/blob/master/Taller_4.ipynb\" target=\"_parent\"><img src=\"https://colab.research.google.com/assets/colab-badge.svg\" alt=\"Open In Colab\"/></a>"
      ]
    },
    {
      "cell_type": "markdown",
      "metadata": {
        "id": "qWtKTz06jBjx"
      },
      "source": [
        "#Taller 4: Variables y distribuciones de probabilidad"
      ]
    },
    {
      "cell_type": "code",
      "metadata": {
        "id": "wL6E5stbhM92"
      },
      "source": [
        "import itertools\n",
        "import pandas as pd\n",
        "import numpy as np\n",
        "import matplotlib.pyplot as plt\n",
        "from scipy import stats\n",
        "%matplotlib inline\n",
        "plt.style.use(\"ggplot\")"
      ],
      "execution_count": null,
      "outputs": []
    },
    {
      "cell_type": "markdown",
      "metadata": {
        "id": "hExO-JRPi8T2"
      },
      "source": [
        "##Punto 1\n",
        "Un proveedor de DVDs regrabables afirma que solamente el $4\\%$ de los artículos suministrados son defectuosos. Si un cliente compra un lote de 25 DVDs, ¿cuál es el número esperado de DVDs defectuosos en el lote?. Si el cliente encuentra que 4 de los DVDs comprados son defectuosos, ¿debe dudar de la afirmación del vendedor?\n"
      ]
    },
    {
      "cell_type": "code",
      "metadata": {
        "id": "iJLhbgaJjUGQ"
      },
      "source": [
        "#Escriba su código aquí"
      ],
      "execution_count": null,
      "outputs": []
    },
    {
      "cell_type": "markdown",
      "metadata": {
        "id": "xFhUUzd2jfKr"
      },
      "source": [
        "##Punto 2\n",
        "La impresora de una pequeña red informática recibe una media de 0.1 peticiones por segundo. Suponiendo que las peticiones a dicha impresora son independientes y a ritmo constante, ¿cuál es la probabilidad de un máximo de 2 peticiones en un segundo? Si la cola de la impresora tiene un comportamiento deficiente cuando recibe más de 10 peticiones en un minuto, ¿cuál es la probabilidad de que ocurra esto?"
      ]
    },
    {
      "cell_type": "code",
      "metadata": {
        "id": "dqI3jmgnjuhG"
      },
      "source": [
        "#Escriba su código aquí"
      ],
      "execution_count": null,
      "outputs": []
    },
    {
      "cell_type": "markdown",
      "metadata": {
        "id": "_nFmJmQGj5eg"
      },
      "source": [
        "##Punto 3\n",
        "El proceso de accesos a una página web se produce de una forma estable e independiente, siendo el intervalo entre dos accesos consecutivos una v.a. exponencial. Sabiendo que, de media, se produce un acceso cada minuto,¿cuál es la probabilidad de que no se produzcan accesos en 4 minutos? y ¿cuál es la probabilidad de que el tiempo transcurrido entre dos accesos consecutivos sea inferior a 90 segundos?"
      ]
    },
    {
      "cell_type": "code",
      "metadata": {
        "id": "41QvJORdjyXZ"
      },
      "source": [
        "#Escriba su código aquí"
      ],
      "execution_count": null,
      "outputs": []
    },
    {
      "cell_type": "markdown",
      "metadata": {
        "id": "NFhglcsckKcr"
      },
      "source": [
        "##Punto 4\n",
        "La duración de un determinado componente electrónico, en horas, es una v.a. que se distribuye según una distribución normal N(2000,40). ¿Cuál es la probabilidad de que la duración de una de esas componentes sea superior a 1900 horas? ¿y de que esté entre 1850 y 1950 horas?"
      ]
    },
    {
      "cell_type": "code",
      "metadata": {
        "id": "Ckr4a4-6kN5m"
      },
      "source": [
        "#Escriba su código aquí"
      ],
      "execution_count": null,
      "outputs": []
    }
  ]
}