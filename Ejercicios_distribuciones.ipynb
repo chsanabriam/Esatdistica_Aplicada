{
  "nbformat": 4,
  "nbformat_minor": 0,
  "metadata": {
    "colab": {
      "name": "Ejercicios_distribuciones.ipynb",
      "provenance": [],
      "collapsed_sections": [],
      "authorship_tag": "ABX9TyPuc9a03+tpbDLGl24WL6aV",
      "include_colab_link": true
    },
    "kernelspec": {
      "name": "python3",
      "display_name": "Python 3"
    }
  },
  "cells": [
    {
      "cell_type": "markdown",
      "metadata": {
        "id": "view-in-github",
        "colab_type": "text"
      },
      "source": [
        "<a href=\"https://colab.research.google.com/github/chsanabriam/Esatdistica_Aplicada/blob/master/Ejercicios_distribuciones.ipynb\" target=\"_parent\"><img src=\"https://colab.research.google.com/assets/colab-badge.svg\" alt=\"Open In Colab\"/></a>"
      ]
    },
    {
      "cell_type": "code",
      "metadata": {
        "id": "Q-Vl3iDZp7y6"
      },
      "source": [
        ""
      ],
      "execution_count": null,
      "outputs": []
    },
    {
      "cell_type": "markdown",
      "metadata": {
        "id": "4Zxthg3NqHOn"
      },
      "source": [
        "#Ejercicios\n",
        "\n",
        "##Ejercicio 1\n",
        "a última novela de un autor ha tenido un gran éxito, hasta el punto de que el 80% de los lectores ya la han leído.\n",
        "\n",
        "Un grupo de 4 amigos son aficionados a la lectura:\n",
        "\n",
        "1. ¿Cuál es la probabilidad de que en el grupo hayan leído la novela 2 personas?\n",
        "\n",
        " \n",
        "\n",
        "2. ¿Y cómo máximo 2?\n",
        "\n"
      ]
    },
    {
      "cell_type": "code",
      "metadata": {
        "id": "hyvz7lNaqRGq"
      },
      "source": [
        ""
      ],
      "execution_count": null,
      "outputs": []
    },
    {
      "cell_type": "markdown",
      "metadata": {
        "id": "MDE5o6V3qVsO"
      },
      "source": [
        "##Ejercicio 2\n",
        "Un agente de seguros vende pólizas a cinco personas de la misma edad y que disfrutan de buena salud.\n",
        "\n",
        "Según las tablas actuales, la probabilidad de que una persona en estas condiciones viva 30 años o más es 2/3.\n",
        "\n",
        "Hállese la probabilidad de que, transcurridos 30 años, vivan:\n",
        "\n",
        "1. Las cinco personas\n",
        "\n",
        " \n",
        "\n",
        "2. Al menos tres personas\n",
        "\n",
        " \n",
        "\n",
        "3. Exactamente dos personas"
      ]
    },
    {
      "cell_type": "code",
      "metadata": {
        "id": "h8eAAk5BqcLl"
      },
      "source": [
        ""
      ],
      "execution_count": null,
      "outputs": []
    },
    {
      "cell_type": "markdown",
      "metadata": {
        "id": "w5GiHRw8qfiy"
      },
      "source": [
        "##Ejercicio 3\n",
        "Se lanza una moneda cuatro veces.\n",
        "\n",
        "Calcular la probabilidad de que salgan más caras que cruces."
      ]
    },
    {
      "cell_type": "code",
      "metadata": {
        "id": "n5tGEZqjq0ZF"
      },
      "source": [
        ""
      ],
      "execution_count": null,
      "outputs": []
    },
    {
      "cell_type": "markdown",
      "metadata": {
        "id": "xB-w6Oxpq3-4"
      },
      "source": [
        "##Ejercicio 4\n",
        "Si de seis a siete de la tarde se admite que un número de teléfono de\n",
        "cada cinco está comunicando.\n",
        "\n",
        "¿Cuál es la probabilidad de que, cuando se marquen 10 números de\n",
        "teléfono elegidos al azar, sólo comuniquen dos?"
      ]
    },
    {
      "cell_type": "code",
      "metadata": {
        "id": "QAXR12iPq52i"
      },
      "source": [
        ""
      ],
      "execution_count": null,
      "outputs": []
    },
    {
      "cell_type": "markdown",
      "metadata": {
        "id": "9O_xpldqrojO"
      },
      "source": [
        "##Ejercicio 5\n",
        "En unas pruebas de alcoholemia se ha observado que el 5% de los conductores controlados dan positivo en la prueba y que el 10% de los conductores controlados no llevan puesto el cinturón de seguridad.\n",
        "\n",
        "También se ha observado que las dos infracciones son independientes.\n",
        "\n",
        "Un guardia de tráfico para cinco conductores al azar. Si tenemos en cuenta que el número de conductores es suficientemente importante como para estimar que la proporción de infractores no varía al hacer la selección.\n",
        "\n",
        " \n",
        "\n",
        "1. Determinar la probabilidad de que exactamente tres conductores hayan cometido alguna de las dos infracciones.\n",
        "\n",
        " \n",
        "\n",
        "2. Determine la probabilidad de que al menos uno de los conductores controlados haya cometido alguna de las dos infracciones.\n",
        "\n"
      ]
    },
    {
      "cell_type": "code",
      "metadata": {
        "id": "vH0VaiIXrvoy"
      },
      "source": [
        ""
      ],
      "execution_count": null,
      "outputs": []
    },
    {
      "cell_type": "markdown",
      "metadata": {
        "id": "-u-9KM7Hr-74"
      },
      "source": [
        "##Ejercicio 6\n",
        "En una ciudad se estima que la temperatura máxima en el mes de junio sigue una distribución normal, con media $23^{\\circ}$ y desviación típica $5^{\\circ}$.\n",
        "\n",
        " \n",
        "\n",
        "Calcular el número de días del mes en los que se espera alcanzar máximas entre $21^{\\circ}$ y $27^{\\circ}$."
      ]
    },
    {
      "cell_type": "code",
      "metadata": {
        "id": "oTSi_bb0sJAL"
      },
      "source": [
        ""
      ],
      "execution_count": null,
      "outputs": []
    },
    {
      "cell_type": "markdown",
      "metadata": {
        "id": "syB1yR3JsLq8"
      },
      "source": [
        "##Ejercicio 7\n",
        "La media de los pesos de 500 estudiantes de un colegio es 70 *kg* y la desviación típica 3 *kg*.\n",
        "\n",
        " \n",
        "\n",
        "Suponiendo que los pesos se distribuyen normalmente, hallar cuántos estudiantes pesan:\n",
        "\n",
        "1. Entre 60 *kg* y 75 *kg*.\n",
        "2. Más de 90 *kg*.\n",
        "3. Menos de 64 *kg*.\n",
        "4. 64 *kg*.\n",
        "5. 64 *kg*  o menos."
      ]
    },
    {
      "cell_type": "code",
      "metadata": {
        "id": "Wb3HAVjost_7"
      },
      "source": [
        ""
      ],
      "execution_count": null,
      "outputs": []
    },
    {
      "cell_type": "markdown",
      "metadata": {
        "id": "XNt4zaxQsu3Q"
      },
      "source": [
        "##Ejercicio 8\n",
        "Si  X  es una variable aleatoria de una distribución $N(\\mu, \\sigma)$, hallar: $P(\\mu - 3\\sigma \\leq X \\leq \\mu + 3\\sigma)$."
      ]
    },
    {
      "cell_type": "code",
      "metadata": {
        "id": "fjf0vB__swr-"
      },
      "source": [
        ""
      ],
      "execution_count": null,
      "outputs": []
    },
    {
      "cell_type": "markdown",
      "metadata": {
        "id": "WUtfg7BStZhw"
      },
      "source": [
        "##Ejercicio 9\n",
        "El tiempo de revisión del motor de un avión sigue una distribución exponencial con media \n",
        "22 minutos.\n",
        "\n",
        "a) Encontrar la probabilidad de que el tiempo de revisión sea menor a \n",
        "10 minutos.\n",
        "\n",
        "b) ¿Cuál es el tiempo de revisión de un motor superado por el \n",
        "10% de los tiempos de revisión?\n",
        "\n",
        "c) El costo de revisión es de \n",
        "200 unidades monetarias fijas al que se le suma 10 unidades monetarias por el tiempo que dure la revisión. Encontrar la media y la varianza del costo."
      ]
    },
    {
      "cell_type": "markdown",
      "metadata": {
        "id": "iZvR15mqt26G"
      },
      "source": [
        "##Ejercicio 10\n",
        "Un matrimonio quiere tener una hija, y por ello deciden tener hijos hasta el nacimientode una hija. Calcular el número esperado de hijos (entre niños y niñas) que tendría el matrimonio. Calcular la probabilidad de que la pareja acabe teniendo tres hijos o más."
      ]
    },
    {
      "cell_type": "code",
      "metadata": {
        "id": "OmMBnjv-tl1n"
      },
      "source": [
        ""
      ],
      "execution_count": null,
      "outputs": []
    }
  ]
}