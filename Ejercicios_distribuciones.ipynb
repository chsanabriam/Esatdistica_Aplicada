{
  "nbformat": 4,
  "nbformat_minor": 0,
  "metadata": {
    "colab": {
      "name": "Ejercicios_distribuciones.ipynb",
      "provenance": [],
      "collapsed_sections": [],
      "authorship_tag": "ABX9TyOfQYT+vyj6DHUfXwukmXtQ",
      "include_colab_link": true
    },
    "kernelspec": {
      "name": "python3",
      "display_name": "Python 3"
    }
  },
  "cells": [
    {
      "cell_type": "markdown",
      "metadata": {
        "id": "view-in-github",
        "colab_type": "text"
      },
      "source": [
        "<a href=\"https://colab.research.google.com/github/chsanabriam/Esatdistica_Aplicada/blob/master/Ejercicios_distribuciones.ipynb\" target=\"_parent\"><img src=\"https://colab.research.google.com/assets/colab-badge.svg\" alt=\"Open In Colab\"/></a>"
      ]
    },
    {
      "cell_type": "code",
      "metadata": {
        "id": "Q-Vl3iDZp7y6"
      },
      "source": [
        ""
      ],
      "execution_count": null,
      "outputs": []
    },
    {
      "cell_type": "markdown",
      "metadata": {
        "id": "4Zxthg3NqHOn"
      },
      "source": [
        "#Ejercicios\n",
        "\n",
        "##Ejercicio 1\n",
        "a última novela de un autor ha tenido un gran éxito, hasta el punto de que el 80% de los lectores ya la han leído.\n",
        "\n",
        "Un grupo de 4 amigos son aficionados a la lectura:\n",
        "\n",
        "1. ¿Cuál es la probabilidad de que en el grupo hayan leído la novela 2 personas?\n",
        "\n",
        " \n",
        "\n",
        "2. ¿Y cómo máximo 2?\n",
        "\n"
      ]
    },
    {
      "cell_type": "code",
      "metadata": {
        "id": "hyvz7lNaqRGq"
      },
      "source": [
        ""
      ],
      "execution_count": null,
      "outputs": []
    },
    {
      "cell_type": "markdown",
      "metadata": {
        "id": "MDE5o6V3qVsO"
      },
      "source": [
        "##Ejercicio 2\n",
        "Un agente de seguros vende pólizas a cinco personas de la misma edad y que disfrutan de buena salud.\n",
        "\n",
        "Según las tablas actuales, la probabilidad de que una persona en estas condiciones viva 30 años o más es 2/3.\n",
        "\n",
        "Hállese la probabilidad de que, transcurridos 30 años, vivan:\n",
        "\n",
        "1. Las cinco personas\n",
        "\n",
        " \n",
        "\n",
        "2. Al menos tres personas\n",
        "\n",
        " \n",
        "\n",
        "3. Exactamente dos personas"
      ]
    },
    {
      "cell_type": "code",
      "metadata": {
        "id": "h8eAAk5BqcLl"
      },
      "source": [
        ""
      ],
      "execution_count": null,
      "outputs": []
    },
    {
      "cell_type": "markdown",
      "metadata": {
        "id": "w5GiHRw8qfiy"
      },
      "source": [
        "##Ejercicio 3\n",
        "Se lanza una moneda cuatro veces.\n",
        "\n",
        "Calcular la probabilidad de que salgan más caras que cruces."
      ]
    },
    {
      "cell_type": "code",
      "metadata": {
        "id": "n5tGEZqjq0ZF"
      },
      "source": [
        ""
      ],
      "execution_count": null,
      "outputs": []
    },
    {
      "cell_type": "markdown",
      "metadata": {
        "id": "xB-w6Oxpq3-4"
      },
      "source": [
        "##Ejercicio 4\n",
        "Si de seis a siete de la tarde se admite que un número de teléfono de\n",
        "cada cinco está comunicando.\n",
        "\n",
        "¿Cuál es la probabilidad de que, cuando se marquen 10 números de\n",
        "teléfono elegidos al azar, sólo comuniquen dos?"
      ]
    },
    {
      "cell_type": "code",
      "metadata": {
        "id": "QAXR12iPq52i"
      },
      "source": [
        ""
      ],
      "execution_count": null,
      "outputs": []
    }
  ]
}