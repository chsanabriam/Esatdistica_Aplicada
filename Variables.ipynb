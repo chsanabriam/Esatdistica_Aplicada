{
  "nbformat": 4,
  "nbformat_minor": 0,
  "metadata": {
    "colab": {
      "name": "Variables.ipynb",
      "provenance": [],
      "collapsed_sections": [],
      "authorship_tag": "ABX9TyMTkMVn/ylw77/cjtiNcqk6",
      "include_colab_link": true
    },
    "kernelspec": {
      "name": "python3",
      "display_name": "Python 3"
    }
  },
  "cells": [
    {
      "cell_type": "markdown",
      "metadata": {
        "id": "view-in-github",
        "colab_type": "text"
      },
      "source": [
        "<a href=\"https://colab.research.google.com/github/chsanabriam/Esatdistica_Aplicada/blob/master/Variables.ipynb\" target=\"_parent\"><img src=\"https://colab.research.google.com/assets/colab-badge.svg\" alt=\"Open In Colab\"/></a>"
      ]
    },
    {
      "cell_type": "markdown",
      "metadata": {
        "id": "FoUNcBM8BdCA"
      },
      "source": [
        "# Variables\n",
        "##Variables Aleatorias\n",
        "Una **variable aleatoria** es una función que asocia un número real con cada elemento del EM."
      ]
    },
    {
      "cell_type": "markdown",
      "metadata": {
        "id": "2Vd3BdLyDi7l"
      },
      "source": [
        "###Ejemplo 1 de variables aleatorias\n",
        "El EM que da una descripción detallada de cada resultado posible cuando se prueban tres componentes electrónicos se puede escribir como\n",
        "$$\\{NNN, NND, NDN, DNN, NDD, DND, DDN, DDD\\}$$\n",
        "\n",
        "donde $N$ denota no defectuoso y $D$ defectuoso. Es natural estar interesado en el número de defectuosos que puedan ocurrir. De esta forma a cada punto del EM se le asignará un valor numérico de 0,1,2 o 3.\n",
        "* Estos valores, por supuesto, son **cantidades aleatorias** determinadas por los resultados del experimento estadístico.\n",
        "* Utilizaremos una letra **mayúscula, digamos $X$**, para denotar una variable aleatoria y su respectiva minúscula, **$x$ en este caso, para uno de sus valores**.\n",
        "* Notamos que la variable aleatoria X toma el valor 2 para los elementos del subconjunto del EM.\n",
        "$$E = \\{DDN, DND, NDD\\}$$"
      ]
    },
    {
      "cell_type": "markdown",
      "metadata": {
        "id": "cdMQOyacK2gC"
      },
      "source": [
        "###Ejemplo 2 de variables aleatorias\n",
        "Se sacan dos bolas de manera sucesiva sin reemplazo de una urna que contiene cuatro bolas rojas y tres negras. Los posibles resultados y **los valores $y$** de la **variable aleatoria $Y$**, donde $Y$ es el número de bolas rojas, son:\n",
        "\n",
        "|EM | y |\n",
        "|---|---|\n",
        "|RR | 2 |\n",
        "|RN | 1 |\n",
        "|NR | 1 |\n",
        "|NN | 0 |"
      ]
    },
    {
      "cell_type": "markdown",
      "metadata": {
        "id": "DQ-_-PjiPUC5"
      },
      "source": [
        "##Espacio muestral discreto (EMD)\n",
        "Si un EM contiene un número finito de posibilidades o una serie interminable con tantos elementos como números enteros existen, se llama **espacio muestral discreto (EMD)**."
      ]
    },
    {
      "cell_type": "markdown",
      "metadata": {
        "id": "spuEdLyqOxDc"
      },
      "source": [
        "###Ejemplo de espacio muestral discreto\n",
        "\n",
        "Cuando se lanza un dado hasta que ocurre un cinco, obtenemos un EM con una secuencia interminable de elementos\n",
        "$$\\{C, NC, NNC, NNNC, NNNNC, \\ldots\\}$$\n",
        "\n",
        "donde $C$ y $N$ representan, respectivamente, la ocurrencia y no ocurrencia de un 5. Pero incluso, en este experimento el número de elementos puede ser igual a todos los números enteros de modo que hay primer elemento, un segundo, un tercero y así sucesivamente, y en este sentido se pueden contar."
      ]
    },
    {
      "cell_type": "markdown",
      "metadata": {
        "id": "j7SNqPy4Qcrf"
      },
      "source": [
        "##Espacio muestral continuo (EMC)\n",
        "Si un EM contiene un número infinito de posibilidades igual al número de puntos en un segmento de recta, se llama **espacio muestral continuo (EMC)**."
      ]
    },
    {
      "cell_type": "markdown",
      "metadata": {
        "id": "ZatsBJrdQoj6"
      },
      "source": [
        "###Ejemplo 1 espacio muestral continuo\n",
        "Cuando se lleva a cabo una investigación para medir la distancia que recorre cierta marca de automóvil en una ruta de prueba preestablecida con 5 litros de gasolina. Supongamos que la distancia es una variable que se mide con algún grado de precisión, entonces claramente tenemos un número infinito de posibles distancias en el EM que no se puede igualar a todos los números enteros."
      ]
    },
    {
      "cell_type": "markdown",
      "metadata": {
        "id": "Qkobd8c4QyR1"
      },
      "source": [
        "###Ejemplo 2 espacio muestral continuo\n",
        "Si se registrara el tiempo requerido para ser atendido después de esperar en una fila (cola) en un banco. Una vez más los posibles intervalos de tiempo que forman nuestro EM son infinitos en número e incontables."
      ]
    },
    {
      "cell_type": "markdown",
      "metadata": {
        "id": "70jXswmLRAXQ"
      },
      "source": [
        "##Variables continuas y discretas\n",
        "\n",
        "* Una variable aleatoria se llama variable aleatoria discreta (v.a.d.) si se puede contar su conjunto de resultados posibles. Cuando una variable aleatoria puede tomar valores en una escala continua, se le denomina variable aleatoria continua (v.a.c.). Muchas veces los posibles valores de una v.a.c. son precisamente los mismos valores que contiene el EMC.\n",
        "\n",
        "* En la mayor parte de los problemas prácticos, las v.a.c. representan datos medidos, como son los posibles pesos, alturas, temperaturas o períodos de vida, mientras que las v.a.d. representan datos contados.\n",
        "\n",
        "* Con frecuencia es conveniente representar todas las probabilidades de una v.a. $X$ mediante una fórmula. Tal fórmula necesariamente sería una función de los valores numéricos $x$ que denotaremos con $f(x)$, $g(x)$, $r(x)$ y así sucesivamente. Por lo tanto, escribimos $f(x)=P(X=x)$, es decir, $f(1)=P(X=1)$."
      ]
    },
    {
      "cell_type": "markdown",
      "metadata": {
        "id": "vKkZ9qk0ikNE"
      },
      "source": [
        "##Distribuciones de Probabilidad\n",
        "El conjunto de pares ordenados $(x,f(x))$ se llama función de probabilidad o distribución de probabilidad de la v.a. $X$.\n",
        "\n",
        "* Si $X$ es una variable aleatoria discreta entonces $(x,f(x))$ es una distribución de probabilidad discreta.\n",
        "* Si $X$ es una variable aleatoria continua entonces $(x,f(x))$ es una distribución de probabilidad continua.\n",
        "\n",
        "El conjunto de pares ordenados $(x,f(x))$ es una **función de probabilidad** o **distribución de probabilidad** de la v.a. $X$, si para cada resultado posible $x$\n",
        "\n",
        "1. $f(x) \\geq 0$\n",
        "2. $\\sum f(x) = 1$\n",
        "3. $P(X = x) = f(x)$"
      ]
    },
    {
      "cell_type": "markdown",
      "metadata": {
        "id": "7jhEbqG8Xz_Z"
      },
      "source": [
        "### Ejemplo de distribución de probabilidad\n",
        "Encuentre la distribución de probabilidad para el lanzamiento de un dado.\n",
        "\n",
        "| Valores | $x$ |1|2|3|4|5|6|\n",
        "|---------|-----|-|-|-|-|-|-|\n",
        "|Probabilidades| $P(x)$|1/6|1/6|1/6|1/6|1/6|1/6|\n",
        "\n",
        "Esta distribución es conocida como **distribución uniforme**"
      ]
    },
    {
      "cell_type": "code",
      "metadata": {
        "id": "kOj37Dy2BaCH"
      },
      "source": [
        ""
      ],
      "execution_count": null,
      "outputs": []
    }
  ]
}