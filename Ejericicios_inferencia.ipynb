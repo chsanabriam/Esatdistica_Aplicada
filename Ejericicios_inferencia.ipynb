{
  "nbformat": 4,
  "nbformat_minor": 0,
  "metadata": {
    "colab": {
      "name": "Ejericicios_inferencia.ipynb",
      "provenance": [],
      "collapsed_sections": [],
      "authorship_tag": "ABX9TyP0Lt70R05eIqP+NIkgi7nf",
      "include_colab_link": true
    },
    "kernelspec": {
      "name": "python3",
      "display_name": "Python 3"
    }
  },
  "cells": [
    {
      "cell_type": "markdown",
      "metadata": {
        "id": "view-in-github",
        "colab_type": "text"
      },
      "source": [
        "<a href=\"https://colab.research.google.com/github/chsanabriam/Esatdistica_Aplicada/blob/master/Ejericicios_inferencia.ipynb\" target=\"_parent\"><img src=\"https://colab.research.google.com/assets/colab-badge.svg\" alt=\"Open In Colab\"/></a>"
      ]
    },
    {
      "cell_type": "code",
      "metadata": {
        "id": "u-wc4NJA99y0"
      },
      "source": [
        "import itertools\n",
        "import pandas as pd\n",
        "import numpy as np\n",
        "import matplotlib.pyplot as plt\n",
        "from scipy import stats\n",
        "%matplotlib inline\n",
        "plt.style.use(\"ggplot\")"
      ],
      "execution_count": 1,
      "outputs": []
    },
    {
      "cell_type": "markdown",
      "metadata": {
        "id": "IC0VC-kk-odF"
      },
      "source": [
        "#Ejercicio 1\n",
        "Se ha obtenido una muestra de 25 alumnos de una Facultad para estimar la calificación media de los expedientes de los alumnos en la Facultad. Se sabe por otros cursos que la desviación típica de las puntuaciones en dicha Facultad es de 2.01 puntos. La media de la muestra fue de 4.9. Encontrar:\n",
        "1. Intervalo de confianza al 90%\n",
        "2. Intervalo de confianza al 95%\n",
        "\n"
      ]
    },
    {
      "cell_type": "code",
      "metadata": {
        "id": "PLlyH1UF-GTO"
      },
      "source": [
        "#Escriba su código aquí\n"
      ],
      "execution_count": null,
      "outputs": []
    },
    {
      "cell_type": "markdown",
      "metadata": {
        "id": "1DoYKW9a_JaT"
      },
      "source": [
        "#Ejercicio 2\n",
        "Un auditor desea contrastar a un nivel de significación de 0.05 la\n",
        "hipótesis nula de que la media de las deudas por cobrar de una\n",
        "empresa es de 150.000 euros. Para ello se selecciona una muestra al\n",
        "azar de 50 de dichas deudas con un valor medio y cuasi-desviación\n",
        "típica muestrales 189.000 y de 80.000, respectivamente. Compruebe si se rechaza o acepta dicha hipótesis.\n",
        "\n",
        "$$\\begin{array}{c}\n",
        "H_0: \\mu = 150.000\\\\\n",
        "H_1: \\mu \\neq 150.000\n",
        "\\end{array}$$\n",
        "\n",
        "**Nota**: La cuasi-varianza de la muestra, $S^2$, es un estimador insesgado de la varianza, $\\sigma^2$,de la población. Para tamaños de muestra $n \\geq$ 30 se puede tomar la cuasi-desviación típica de la muestra,\n",
        "$S = \\sqrt{S^2}$,en sustitución del parámetro $\\sigma$ del estadístico de contraste $Z$, que se aproxima a una $N(0, 1)$"
      ]
    },
    {
      "cell_type": "code",
      "metadata": {
        "id": "uIOgt9cJAEmj"
      },
      "source": [
        "#Escriba su código aquí\n"
      ],
      "execution_count": null,
      "outputs": []
    },
    {
      "cell_type": "markdown",
      "metadata": {
        "id": "BlTe99DMLYRt"
      },
      "source": [
        "#Ejercicio 3\n",
        "Un fabricante afirma que la vida media de un componente electrónico supera las 1500 horas. Se selecciona una muestra de 900 componentes de la\n",
        "producción para establecer un control de calidad, obteniéndose los siguientes resultados. Media y cuasi-varianza muestrales iguales a $\\bar{X} =$ 1450 y $S^2 =$ 650,\n",
        "respectivamente.\n",
        "\n",
        "Contraste la hipótesis $H_0: \\mu > 1500$, frente a la alternativa $H_1:\\mu < 1500$ a un nivel de significación $\\alpha$ del 5%."
      ]
    },
    {
      "cell_type": "code",
      "metadata": {
        "id": "7R9EQmvlMJIg"
      },
      "source": [
        "#Escriba su código aquí\n"
      ],
      "execution_count": null,
      "outputs": []
    },
    {
      "cell_type": "markdown",
      "metadata": {
        "id": "k_yt4jExMMNC"
      },
      "source": [
        "#Ejercicio 4\n",
        "Se piensa que el tiempo medio que está en paro un tipo de profesional de un determinado sector es de 13.5 meses. Para contrastar esta hipótesis al nivel $\\alpha =$ 5 % frente a la alternativa (que no es cierto) se tomó una muestra de 45 profesionales que estuvieron en paro en ese sector y se obtuvo una media de 17,2 meses y una cuasi-desviación típica de 15,3 meses.\n",
        "\n",
        "Compruebe si se rechaza o acepta dicha hipótesis."
      ]
    },
    {
      "cell_type": "code",
      "metadata": {
        "id": "SYTOOUkvMn2q"
      },
      "source": [
        "#Escriba su código aquí\n"
      ],
      "execution_count": null,
      "outputs": []
    },
    {
      "cell_type": "markdown",
      "metadata": {
        "id": "Pm1P0DdhPMHu"
      },
      "source": [
        "#Ejercicio 5\n",
        "El número de viajes mensuales realizados por los usuarios de una autopista sigue una distribución normal de media desconocida y desviación típica de 6 viajes . Tomada una muestra de 576 usuarios , su media mensual ha resultado ser de 12 viajes . Calcula los intervalos de confianza del 95% y 99% para la media de la población. "
      ]
    },
    {
      "cell_type": "code",
      "metadata": {
        "id": "kz2fKmhUPmYt"
      },
      "source": [
        "#Escriba su código aquí\n"
      ],
      "execution_count": null,
      "outputs": []
    },
    {
      "cell_type": "markdown",
      "metadata": {
        "id": "tZJvJswtUmRn"
      },
      "source": [
        "#Ejercicio 6\n",
        "Para una muestra , de tamaño 81 , de alumnas de segundo de bachillerato se obtuvo una estatura media de 167 cm . Por trabajos anteriores se sabe que la desviación típica de la altura de la población de chicas de segundo de bachillerato es de 8 cm.\n",
        "\n",
        "1. Determinar el intervalo de confianza para la altura media de la población a un nivel de confianza 90%\n",
        "2. ¿Cuál es el error máximo que se admite para la media poblacional en la estimación realizada?"
      ]
    },
    {
      "cell_type": "code",
      "metadata": {
        "id": "-z6cNiElUyIy"
      },
      "source": [
        "#Escriba su código aquí\n"
      ],
      "execution_count": null,
      "outputs": []
    },
    {
      "cell_type": "markdown",
      "metadata": {
        "id": "dy7qT9hTVRzE"
      },
      "source": [
        "#Ejercicio 7\n",
        "La edad de los alumnos que el año pasado se matricularon en alguno de los cursos de verano de la Universidad de Cantabria sigue una distribución normal con desviación típica de 7 años. Una muestra aleatoria de 150 alumnos ha dado como resultado una edad media de 25,4 años.\n",
        "\n",
        "1. Obtener el intervalo de confianza del 94% para la media de edad de todos los matriculados.\n",
        "2. ¿Cuál es el tamaño mínimo que debe tener la muestra si deseamos que el error cometido al estimar la media con un nivel de confianza del 92% sea de 0,5?"
      ]
    },
    {
      "cell_type": "code",
      "metadata": {
        "id": "_X84K56WVgSU"
      },
      "source": [
        ""
      ],
      "execution_count": null,
      "outputs": []
    }
  ]
}