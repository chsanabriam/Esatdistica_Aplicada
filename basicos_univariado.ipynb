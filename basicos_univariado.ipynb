{
  "nbformat": 4,
  "nbformat_minor": 0,
  "metadata": {
    "colab": {
      "name": "basicos_univariado.ipynb",
      "provenance": [],
      "collapsed_sections": [],
      "authorship_tag": "ABX9TyNsqq3E4m5ESMI5aGpSCBu/",
      "include_colab_link": true
    },
    "kernelspec": {
      "name": "python3",
      "display_name": "Python 3"
    }
  },
  "cells": [
    {
      "cell_type": "markdown",
      "metadata": {
        "id": "view-in-github",
        "colab_type": "text"
      },
      "source": [
        "<a href=\"https://colab.research.google.com/github/chsanabriam/Esatdistica_Aplicada/blob/master/basicos_univariado.ipynb\" target=\"_parent\"><img src=\"https://colab.research.google.com/assets/colab-badge.svg\" alt=\"Open In Colab\"/></a>"
      ]
    },
    {
      "cell_type": "markdown",
      "metadata": {
        "id": "MjxN2sdwX3ZN",
        "colab_type": "text"
      },
      "source": [
        "# Análisis Univariado"
      ]
    },
    {
      "cell_type": "markdown",
      "metadata": {
        "id": "PfJuoS5iL6GS",
        "colab_type": "text"
      },
      "source": [
        "##Población y muestra\n",
        "\n",
        "**Población:** es el conjunto de elementos que son objeto de estudio estadístico.\n",
        "\n",
        "**Individuo:** cada uno de los elementos de la población. El número total de individuos de la población se suele representar por la letra **$N$**.\n",
        "\n",
        "A veces, es necesario estudiar a todos los individuos de la población. En este caso se trata de un estudio **exhaustivo**. Por ejemplo, cuando se realiza el censo de población de una determinada ciudad. En general, es muy costoso, en tiempo y dinero; entrevistar a todos los elementos objeto del estudio. Por ello, se selecciona solo una parte y en este caso se dice que se trata de un estudio **muestral**.\n",
        "\n",
        "**Muestra:** es una parte de la población con la que realmente se realiza el estudio.\n",
        "\n",
        "**Tamaño:** es el número de elementos del que se compone la muestra y se suele representar por la letra **$n$**\n",
        "\n"
      ]
    },
    {
      "cell_type": "markdown",
      "metadata": {
        "id": "fN8fm0m09WQZ",
        "colab_type": "text"
      },
      "source": [
        "## Muestreos aleatorios\n",
        "**Muestreo aleatorio simple:** se trata de obtener, mediante un método aleatorio, los individuos de la muestra entre los que forman la población. Este tipo de muestreo se realiza cuando los individuos de la población que vamos a estudiar tienen características parecidas.\n",
        "\n",
        "**Muestreo aleatorio estratificado:** se trata de dividir la población en grupos (llamados estratos) de características parecidas. De cada grupo se seleccionarán mediante un método aleatorio algunos individuos. El número de individuos obtenidos de cada grupo puede ser el mismo, (en cuyo caso se dice que se realiza mediante **afijación igual** o proporcional al número de individuos que hay en total en dicho grupo con respecto al total de la población (en cuyo caso se llama **afijación proporcional** ). Este tipo de muestreo nos permite obtener más información ya que, aparte de sacar resultados sobre el total de la población, nos da también información sobre los grupos (estratos) que lo forman. \n",
        "\t"
      ]
    },
    {
      "cell_type": "markdown",
      "metadata": {
        "id": "cJM1H8XD6DXJ",
        "colab_type": "text"
      },
      "source": [
        "###Ejercicio muestreo\n",
        "Se quiere realizar un estudio estadístico mediante muestreo estratificado aleatorio de cierto tipo de información de una biblioteca. Esta contiene un total de 2000 libros distribuidos de la siguiente forma:\n",
        "\n",
        "* 800 libros de Literatura.\n",
        "* 400 libros de Geografía e Historia.\n",
        "* 500 libros de ciencia.\n",
        "* 300 libros de otros contenidos.\n",
        "\n",
        "Para el estudio se quiere tomar una muestra de 180 libros y considerar como estratos los grupos de libros anteriores.\n",
        "\n",
        "Resuelve las siguientes cuestiones:\n",
        "\n",
        "a) Valor de $N$ (tamaño de la población)  y de $n$ (tamaño de la muestra).\n",
        "\n",
        "b) Número de libros que hay que seleccionar para la muestra de cada uno de los distintos estratos si se realiza mediante afijación igual.\n",
        "\n",
        "c) Número de libros que hay que seleccionar para la muestra de cada uno de los distintos estratos si se realiza mediante afijación proporcional."
      ]
    },
    {
      "cell_type": "code",
      "metadata": {
        "id": "bwWe_yOArz2-",
        "colab_type": "code",
        "colab": {}
      },
      "source": [
        "import numpy as np\n",
        "from scipy import stats\n",
        "import pandas as pd\n",
        "import matplotlib.pyplot as plt\n",
        "%matplotlib inline\n",
        "plt.style.use(\"ggplot\")\n",
        "np.random.seed(123) # para poder replicar los números aleatorios"
      ],
      "execution_count": 2,
      "outputs": []
    },
    {
      "cell_type": "code",
      "metadata": {
        "id": "gGpR7Ays45Dd",
        "colab_type": "code",
        "colab": {}
      },
      "source": [
        "lista_libros = [['literatura',800],['geograf_&_historia',400],\\\n",
        "                ['ciencia',500],['otros',300]]\n",
        "libros = np.array(lista_libros).astype(object)\n",
        "libros[:,1] = libros[:,1].astype(int)"
      ],
      "execution_count": 3,
      "outputs": []
    },
    {
      "cell_type": "code",
      "metadata": {
        "id": "uD5AUmB6AKlU",
        "colab_type": "code",
        "colab": {
          "base_uri": "https://localhost:8080/",
          "height": 84
        },
        "outputId": "5306718a-d5e8-458f-a2b5-a45eed08ae27"
      },
      "source": [
        "libros"
      ],
      "execution_count": 4,
      "outputs": [
        {
          "output_type": "execute_result",
          "data": {
            "text/plain": [
              "array([['literatura', 800],\n",
              "       ['geograf_&_historia', 400],\n",
              "       ['ciencia', 500],\n",
              "       ['otros', 300]], dtype=object)"
            ]
          },
          "metadata": {
            "tags": []
          },
          "execution_count": 4
        }
      ]
    },
    {
      "cell_type": "code",
      "metadata": {
        "id": "y_0oCMiaER3p",
        "colab_type": "code",
        "colab": {
          "base_uri": "https://localhost:8080/",
          "height": 34
        },
        "outputId": "173a456d-b0bb-4639-f533-fc7d78fdadcf"
      },
      "source": [
        "n = 180\n",
        "N = np.sum(libros[:,1])\n",
        "print(f'N = {N}; n = {n}')"
      ],
      "execution_count": 5,
      "outputs": [
        {
          "output_type": "stream",
          "text": [
            "N = 2000; n = 180\n"
          ],
          "name": "stdout"
        }
      ]
    },
    {
      "cell_type": "code",
      "metadata": {
        "id": "HsJsESTHFcDv",
        "colab_type": "code",
        "colab": {
          "base_uri": "https://localhost:8080/",
          "height": 34
        },
        "outputId": "afefa246-7921-4e5e-c7f0-ad40bb2cb767"
      },
      "source": [
        "naf_igual = n / len(np.unique(libros[:,0]))\n",
        "print(f'num. elementos af. igual: {naf_igual}')"
      ],
      "execution_count": 6,
      "outputs": [
        {
          "output_type": "stream",
          "text": [
            "num. elementos af. igual: 45.0\n"
          ],
          "name": "stdout"
        }
      ]
    },
    {
      "cell_type": "code",
      "metadata": {
        "id": "dHl2wu_YKSsQ",
        "colab_type": "code",
        "colab": {
          "base_uri": "https://localhost:8080/",
          "height": 34
        },
        "outputId": "ddaee623-44c8-4720-a7ec-f4994b864d2b"
      },
      "source": [
        "p = libros[:,1]*n/N\n",
        "p"
      ],
      "execution_count": 7,
      "outputs": [
        {
          "output_type": "execute_result",
          "data": {
            "text/plain": [
              "array([72.0, 36.0, 45.0, 27.0], dtype=object)"
            ]
          },
          "metadata": {
            "tags": []
          },
          "execution_count": 7
        }
      ]
    },
    {
      "cell_type": "markdown",
      "metadata": {
        "id": "jnFapFNZYOAf",
        "colab_type": "text"
      },
      "source": [
        "## Tipos de datos\n",
        "**Cualitativas:** son aquellas en la que los resultados posibles no son valores numéricos. Por ejemplo: color del pelo, tipo de ropa preferida, lugar a donde vas a vacaciones, etc.\n",
        "\n",
        "**Cuantitativas:** aquellas cuyo resultado es un número. A su vez, las hay de dos tipos:\n",
        "* **Cuantitativas discretas:** cuando se toman valores aislados. Por ejemplo: número de amigos de tu clase, número de veces que vas al cine al mes, número de automoviles que tiene tu familia.\n",
        "* **Cuantitativas continuas:** cuando, entre dos valores cualesquiera, puede haber valores intermedios. Es decir, se toman todos los valores de un determinado intervalo. Por ejemplo: peso de las personas, nivel sobre el mar en que se encuentra tu ciudad, medida del perímetro torácico.\n"
      ]
    },
    {
      "cell_type": "markdown",
      "metadata": {
        "id": "4mFOkqdWMTmc",
        "colab_type": "text"
      },
      "source": [
        "## Tabla de frecuencias e histográma de frecuencias\n",
        "\n",
        "Representar los datos de manera directa, concisa y visualmente atractiva se hace en Estadística mediante la **tabulación** de la variable estadística o del atributo.\n",
        "\n",
        "Realizar una **tabulación** consiste en elaborar tablas simples, fáciles de leer y que de manera general ofrezcan una acertada visión de las características más importantes de la distribución.\n",
        "\n",
        "La forma más común es por medio de **tablas de frecuencias**.\n",
        "\n",
        " **Frecuencia absoluta:** el número de veces que se repite cada valor o dato de la variable, y se representa generalmente como $n_i$.\n",
        "\n",
        "**Frecuencia relativa:** se obtiene por cociente entre la\n",
        "frecuencia absoluta ($n_i$) y el número total de datos ($N$). Esta se representa generalmente como $f_i$.\n",
        "\n",
        "**Histográma de frecuencias:** es un gráfico que muestra por medio de barras la distribución de frecuencias de una o más variables.\n",
        "\n",
        "Un histográma tiene diferentes beneficios dependiendo del uso que se le dé. Es común que en las empresas y comunidades se usen para:\n",
        "\n",
        "* Tomar de decisiones con base en la representación de los datos.\n",
        "* Mostrar información de interés general, por eso es común que el departamento de control de calidad los difunda.\n",
        "* Analizar rendimientos de procesos\n",
        "* Evidenciar cambios ante intervenciones (antes y después)\n",
        "Y un largo etc. Los beneficios dependerán de la interpretación del histograma."
      ]
    },
    {
      "cell_type": "markdown",
      "metadata": {
        "id": "JXVwVtdlyyU_",
        "colab_type": "text"
      },
      "source": [
        "###Ejemplo frecuencia absoluta y relativa con datos sin agrupar\n",
        "Precios de los menus durante un día de un restaurante en Madrid, España.\n",
        "\n",
        "precio = [6, 8, 6, 8, 6, 8, 12, 6, 8, 8, 6, 8, 8, 8, 12, 12, 8, 8, 12, 6, 8, 6, 6, 8, 12, 6, 6, 6, 6, 6] euros\n",
        "\n"
      ]
    },
    {
      "cell_type": "code",
      "metadata": {
        "id": "8N6SdnOCym4L",
        "colab_type": "code",
        "colab": {}
      },
      "source": [
        "precio = np.array([6, 8, 6, 8, 6, 8, 12, 6, 8, 8, 6, 8, 8, 8, 12, 12, 8, 8, 12,\\\n",
        "                   6, 8, 6, 6, 8, 12, 6, 6, 6, 6, 6]) "
      ],
      "execution_count": 8,
      "outputs": []
    },
    {
      "cell_type": "markdown",
      "metadata": {
        "id": "CKomQ0cU0DQm",
        "colab_type": "text"
      },
      "source": [
        "Tabular los datos y generar una tabla con frecuencia absoluta y frecuencia relativa"
      ]
    },
    {
      "cell_type": "code",
      "metadata": {
        "id": "TW7rglxmz69v",
        "colab_type": "code",
        "colab": {
          "base_uri": "https://localhost:8080/",
          "height": 34
        },
        "outputId": "20f8b143-53a7-419a-8e44-991ac2241b7d"
      },
      "source": [
        "frecuencia_ab = np.unique(precio, return_counts=True)\n",
        "frecuencia_ab"
      ],
      "execution_count": 12,
      "outputs": [
        {
          "output_type": "execute_result",
          "data": {
            "text/plain": [
              "(array([ 6,  8, 12]), array([13, 12,  5]))"
            ]
          },
          "metadata": {
            "tags": []
          },
          "execution_count": 12
        }
      ]
    },
    {
      "cell_type": "code",
      "metadata": {
        "id": "MfXYqMFG2ngx",
        "colab_type": "code",
        "colab": {}
      },
      "source": [
        "total_observaciones = len(precio)\n",
        "frecuencia_rel = frecuencia_ab[1]/total_observaciones"
      ],
      "execution_count": 13,
      "outputs": []
    },
    {
      "cell_type": "code",
      "metadata": {
        "id": "yrMQSgUn1lNm",
        "colab_type": "code",
        "colab": {
          "base_uri": "https://localhost:8080/",
          "height": 136
        },
        "outputId": "ab69a370-0a6b-408a-977b-17b10fbed119"
      },
      "source": [
        "# Dataframe para presentar una tabla de frecuencias\n",
        "tabla_f = pd.DataFrame({'precio':frecuencia_ab[0],'ni':frecuencia_ab[1],\\\n",
        "                        'fi':frecuencia_rel})\n",
        "tabla_f"
      ],
      "execution_count": 14,
      "outputs": [
        {
          "output_type": "execute_result",
          "data": {
            "text/html": [
              "<div>\n",
              "<style scoped>\n",
              "    .dataframe tbody tr th:only-of-type {\n",
              "        vertical-align: middle;\n",
              "    }\n",
              "\n",
              "    .dataframe tbody tr th {\n",
              "        vertical-align: top;\n",
              "    }\n",
              "\n",
              "    .dataframe thead th {\n",
              "        text-align: right;\n",
              "    }\n",
              "</style>\n",
              "<table border=\"1\" class=\"dataframe\">\n",
              "  <thead>\n",
              "    <tr style=\"text-align: right;\">\n",
              "      <th></th>\n",
              "      <th>precio</th>\n",
              "      <th>ni</th>\n",
              "      <th>fi</th>\n",
              "    </tr>\n",
              "  </thead>\n",
              "  <tbody>\n",
              "    <tr>\n",
              "      <th>0</th>\n",
              "      <td>6</td>\n",
              "      <td>13</td>\n",
              "      <td>0.433333</td>\n",
              "    </tr>\n",
              "    <tr>\n",
              "      <th>1</th>\n",
              "      <td>8</td>\n",
              "      <td>12</td>\n",
              "      <td>0.400000</td>\n",
              "    </tr>\n",
              "    <tr>\n",
              "      <th>2</th>\n",
              "      <td>12</td>\n",
              "      <td>5</td>\n",
              "      <td>0.166667</td>\n",
              "    </tr>\n",
              "  </tbody>\n",
              "</table>\n",
              "</div>"
            ],
            "text/plain": [
              "   precio  ni        fi\n",
              "0       6  13  0.433333\n",
              "1       8  12  0.400000\n",
              "2      12   5  0.166667"
            ]
          },
          "metadata": {
            "tags": []
          },
          "execution_count": 14
        }
      ]
    },
    {
      "cell_type": "markdown",
      "metadata": {
        "id": "Goqp-M04398v",
        "colab_type": "text"
      },
      "source": [
        "###Ejemplo frecuencia absoluta y relativa con datos agrupados\n",
        "\n",
        "En el mismo restaurante se tiene que las propinas recibidas a lo largo de un día son:\n",
        "\n",
        "propinas = [ 8, 0,  1,  6,  3,  3, 11,  5,  9,  7,  9,  2,  3, 11,  3,  3,  8,\n",
        "       0,  6,  9,  7, 14,  6,  3,  0,  6, 12,  6, 11,  6,  1, 13, 14, 10,\n",
        "        3,  4,  3,  1, 15, 13,  0,  5,  8, 13,  6, 14, 0, 1,  8,  9, 13,\n",
        "        1,  0,  3, 13,  1,  3,  4, 14,  7, 13,  6, 12,  1,  4, 14, 12,  3,\n",
        "       12,  3,  7,  6,  8,  6, 13, 12, 12, 0,  4,  4]"
      ]
    },
    {
      "cell_type": "code",
      "metadata": {
        "id": "MfjJ4KQP4q9y",
        "colab_type": "code",
        "colab": {}
      },
      "source": [
        "propinas = np.array([ 8, 0, 1, 6, 3, 3, 11, 5, 9, 7, 9, 2, 3, 11, 3, 3, 8, 0, 6,\\\n",
        "                     9, 7, 14, 6, 3, 0, 6, 12, 6, 11, 6, 1, 13, 14, 10, 3, 4, 3,\\\n",
        "                     1, 15, 13, 0, 5, 8, 13, 6, 14, 0, 1, 8, 9, 13, 1, 0, 3, 13,\\\n",
        "                     1, 3, 4, 14, 7, 13, 6, 12, 1, 4, 14, 12, 3, 12, 3, 7, 6, 8,\\\n",
        "                     6, 13, 12, 12, 0, 4, 4])"
      ],
      "execution_count": 19,
      "outputs": []
    },
    {
      "cell_type": "markdown",
      "metadata": {
        "id": "Bt3VRqh27L7A",
        "colab_type": "text"
      },
      "source": [
        "Dado que existen muchos valores diferentes de la variable\n",
        "comprendidos entre 0 y 15 euros, para tener una visión de conjunto, las cantidades\n",
        "pagadas se deben agrupar en clases o intervalos $\\Delta x = [L_{i-1} - L_i]$."
      ]
    },
    {
      "cell_type": "code",
      "metadata": {
        "id": "15wUA68r66hH",
        "colab_type": "code",
        "colab": {
          "base_uri": "https://localhost:8080/",
          "height": 34
        },
        "outputId": "5c5bf7a7-fa14-4bb6-f700-82381d33f9ea"
      },
      "source": [
        "min = np.min(propinas)\n",
        "max = np.max(propinas)\n",
        "print(f'propina mínima: {min}; propina máxima: {max}')"
      ],
      "execution_count": 20,
      "outputs": [
        {
          "output_type": "stream",
          "text": [
            "propina mínima: 0; propina máxima: 15\n"
          ],
          "name": "stdout"
        }
      ]
    },
    {
      "cell_type": "code",
      "metadata": {
        "id": "th3wOjcI7gsG",
        "colab_type": "code",
        "colab": {}
      },
      "source": [
        "ancho_intervalo = 3\n",
        "intervalos = int((max - min)/ancho_intervalo)\n",
        "frecuencias = np.zeros(intervalos)\n",
        "label = []\n",
        "for i in range(intervalos):\n",
        "  contador = 0\n",
        "  li = i*ancho_intervalo\n",
        "  lf = li + ancho_intervalo\n",
        "  for p in propinas:\n",
        "    if p >= li and p <= lf:\n",
        "      contador += 1\n",
        "  frecuencias[i] = contador\n",
        "  label.append(str(li) + '-' + str(lf))  "
      ],
      "execution_count": 53,
      "outputs": []
    },
    {
      "cell_type": "code",
      "metadata": {
        "id": "WdpNgSR2_43t",
        "colab_type": "code",
        "colab": {
          "base_uri": "https://localhost:8080/",
          "height": 195
        },
        "outputId": "5ee1c302-ae4e-4511-d75c-f65b4773a2af"
      },
      "source": [
        "tabla_f1 = pd.DataFrame({'Li-1 - Li':label, 'ni': frecuencias})\n",
        "tabla_f1"
      ],
      "execution_count": 54,
      "outputs": [
        {
          "output_type": "execute_result",
          "data": {
            "text/html": [
              "<div>\n",
              "<style scoped>\n",
              "    .dataframe tbody tr th:only-of-type {\n",
              "        vertical-align: middle;\n",
              "    }\n",
              "\n",
              "    .dataframe tbody tr th {\n",
              "        vertical-align: top;\n",
              "    }\n",
              "\n",
              "    .dataframe thead th {\n",
              "        text-align: right;\n",
              "    }\n",
              "</style>\n",
              "<table border=\"1\" class=\"dataframe\">\n",
              "  <thead>\n",
              "    <tr style=\"text-align: right;\">\n",
              "      <th></th>\n",
              "      <th>Li-1 - Li</th>\n",
              "      <th>ni</th>\n",
              "    </tr>\n",
              "  </thead>\n",
              "  <tbody>\n",
              "    <tr>\n",
              "      <th>0</th>\n",
              "      <td>0-3</td>\n",
              "      <td>27.0</td>\n",
              "    </tr>\n",
              "    <tr>\n",
              "      <th>1</th>\n",
              "      <td>3-6</td>\n",
              "      <td>29.0</td>\n",
              "    </tr>\n",
              "    <tr>\n",
              "      <th>2</th>\n",
              "      <td>6-9</td>\n",
              "      <td>23.0</td>\n",
              "    </tr>\n",
              "    <tr>\n",
              "      <th>3</th>\n",
              "      <td>9-12</td>\n",
              "      <td>14.0</td>\n",
              "    </tr>\n",
              "    <tr>\n",
              "      <th>4</th>\n",
              "      <td>12-15</td>\n",
              "      <td>19.0</td>\n",
              "    </tr>\n",
              "  </tbody>\n",
              "</table>\n",
              "</div>"
            ],
            "text/plain": [
              "  Li-1 - Li    ni\n",
              "0       0-3  27.0\n",
              "1       3-6  29.0\n",
              "2       6-9  23.0\n",
              "3      9-12  14.0\n",
              "4     12-15  19.0"
            ]
          },
          "metadata": {
            "tags": []
          },
          "execution_count": 54
        }
      ]
    },
    {
      "cell_type": "code",
      "metadata": {
        "id": "u1aUkgV9AVUx",
        "colab_type": "code",
        "colab": {
          "base_uri": "https://localhost:8080/",
          "height": 195
        },
        "outputId": "dfe81154-6ddb-435f-d976-d67c451f40d5"
      },
      "source": [
        "# Usando directamente pandas\n",
        "df_propinas = pd.DataFrame({'propinas':propinas})\n",
        "df_propinas.head()"
      ],
      "execution_count": 55,
      "outputs": [
        {
          "output_type": "execute_result",
          "data": {
            "text/html": [
              "<div>\n",
              "<style scoped>\n",
              "    .dataframe tbody tr th:only-of-type {\n",
              "        vertical-align: middle;\n",
              "    }\n",
              "\n",
              "    .dataframe tbody tr th {\n",
              "        vertical-align: top;\n",
              "    }\n",
              "\n",
              "    .dataframe thead th {\n",
              "        text-align: right;\n",
              "    }\n",
              "</style>\n",
              "<table border=\"1\" class=\"dataframe\">\n",
              "  <thead>\n",
              "    <tr style=\"text-align: right;\">\n",
              "      <th></th>\n",
              "      <th>propinas</th>\n",
              "    </tr>\n",
              "  </thead>\n",
              "  <tbody>\n",
              "    <tr>\n",
              "      <th>0</th>\n",
              "      <td>8</td>\n",
              "    </tr>\n",
              "    <tr>\n",
              "      <th>1</th>\n",
              "      <td>0</td>\n",
              "    </tr>\n",
              "    <tr>\n",
              "      <th>2</th>\n",
              "      <td>1</td>\n",
              "    </tr>\n",
              "    <tr>\n",
              "      <th>3</th>\n",
              "      <td>6</td>\n",
              "    </tr>\n",
              "    <tr>\n",
              "      <th>4</th>\n",
              "      <td>3</td>\n",
              "    </tr>\n",
              "  </tbody>\n",
              "</table>\n",
              "</div>"
            ],
            "text/plain": [
              "   propinas\n",
              "0         8\n",
              "1         0\n",
              "2         1\n",
              "3         6\n",
              "4         3"
            ]
          },
          "metadata": {
            "tags": []
          },
          "execution_count": 55
        }
      ]
    },
    {
      "cell_type": "markdown",
      "metadata": {
        "id": "7kdrNfELA1bm",
        "colab_type": "text"
      },
      "source": [
        "Se puede utilizar la función cut incorporada en pandas para hacer la segmentación $\\Delta x = (L_{i-1} - L_i]$.\n",
        "https://pandas.pydata.org/pandas-docs/stable/reference/api/pandas.cut.html"
      ]
    },
    {
      "cell_type": "code",
      "metadata": {
        "id": "Iljnra_8Aj35",
        "colab_type": "code",
        "colab": {}
      },
      "source": [
        "ancho = 3\n",
        "bins = np.zeros(6)\n",
        "for i in range(-1,5):\n",
        "  bins[i] = (i)*ancho\n",
        "bins = np.sort(bins)\n",
        "df_propinas['li_1-li'] = pd.cut(x=df_propinas['propinas'], bins=bins)"
      ],
      "execution_count": 62,
      "outputs": []
    },
    {
      "cell_type": "code",
      "metadata": {
        "id": "qzlH-JxhCbv1",
        "colab_type": "code",
        "colab": {
          "base_uri": "https://localhost:8080/",
          "height": 118
        },
        "outputId": "06aaa4a1-1103-479d-f630-0206c787a92e"
      },
      "source": [
        "df_propinas['li_1-li'].value_counts()"
      ],
      "execution_count": 63,
      "outputs": [
        {
          "output_type": "execute_result",
          "data": {
            "text/plain": [
              "(0.0, 3.0]     20\n",
              "(3.0, 6.0]     17\n",
              "(6.0, 9.0]     13\n",
              "(9.0, 12.0]    10\n",
              "(-3.0, 0.0]     7\n",
              "Name: li_1-li, dtype: int64"
            ]
          },
          "metadata": {
            "tags": []
          },
          "execution_count": 63
        }
      ]
    },
    {
      "cell_type": "markdown",
      "metadata": {
        "id": "o5v9yIjXsdSt",
        "colab_type": "text"
      },
      "source": [
        "### Ejemplo Histográma de frecuencias\n",
        "\n",
        "##Usando stents para prevenir derrames cerebrales (strokes)\n",
        "\n",
        "**Pregunta**\n",
        "\n",
        "¿El uso de stents previene los derrames cerebrales?\n",
        "\n",
        "**Definiciones**\n",
        "\n",
        "https://www.healthline.com/health/stent\n",
        "\n",
        "https://www.medicinenet.com/script/main/art.asp?articlekey=9791#:~:text=Medical%20Definition%20of%20Stroke&text=Stroke%3A%20The%20sudden%20death%20of,the%20body%20can%20be%20symptoms.\n",
        "\n",
        "* 451 pacientes distribuidos aleatoreamente en dos grupos (control y tratamiento)\n",
        "* Se estudio el efecto del stent en dos momentos: 30 días y 365 días.\n"
      ]
    },
    {
      "cell_type": "code",
      "metadata": {
        "id": "tXrybextt1M9",
        "colab_type": "code",
        "colab": {
          "base_uri": "https://localhost:8080/",
          "height": 222
        },
        "outputId": "f9746145-3134-4b8c-9fd4-d8855a3e031e"
      },
      "source": [
        "!wget https://www.openintro.org/data/csv/stent30.csv"
      ],
      "execution_count": null,
      "outputs": [
        {
          "output_type": "stream",
          "text": [
            "--2020-08-28 10:23:59--  https://www.openintro.org/data/csv/stent30.csv\n",
            "Resolving www.openintro.org (www.openintro.org)... 192.185.65.127\n",
            "Connecting to www.openintro.org (www.openintro.org)|192.185.65.127|:443... connected.\n",
            "HTTP request sent, awaiting response... 200 OK\n",
            "Length: 9845 (9.6K) [text/csv]\n",
            "Saving to: ‘stent30.csv’\n",
            "\n",
            "stent30.csv         100%[===================>]   9.61K  --.-KB/s    in 0s      \n",
            "\n",
            "2020-08-28 10:23:59 (147 MB/s) - ‘stent30.csv’ saved [9845/9845]\n",
            "\n"
          ],
          "name": "stdout"
        }
      ]
    },
    {
      "cell_type": "code",
      "metadata": {
        "id": "TcnyHZOCW23I",
        "colab_type": "code",
        "colab": {
          "base_uri": "https://localhost:8080/",
          "height": 222
        },
        "outputId": "d9288cb0-519a-4938-bce9-fb4b369f7548"
      },
      "source": [
        "!wget https://www.openintro.org/data/csv/stent365.csv"
      ],
      "execution_count": null,
      "outputs": [
        {
          "output_type": "stream",
          "text": [
            "--2020-08-28 10:23:59--  https://www.openintro.org/data/csv/stent365.csv\n",
            "Resolving www.openintro.org (www.openintro.org)... 192.185.65.127\n",
            "Connecting to www.openintro.org (www.openintro.org)|192.185.65.127|:443... connected.\n",
            "HTTP request sent, awaiting response... 200 OK\n",
            "Length: 9791 (9.6K) [text/csv]\n",
            "Saving to: ‘stent365.csv’\n",
            "\n",
            "stent365.csv        100%[===================>]   9.56K  --.-KB/s    in 0s      \n",
            "\n",
            "2020-08-28 10:24:00 (141 MB/s) - ‘stent365.csv’ saved [9791/9791]\n",
            "\n"
          ],
          "name": "stdout"
        }
      ]
    },
    {
      "cell_type": "code",
      "metadata": {
        "id": "7zUQHM87s1Kk",
        "colab_type": "code",
        "colab": {}
      },
      "source": [
        "dfstents30 = pd.read_csv('stent30.csv')\n",
        "dfstents365 = pd.read_csv('stent365.csv')"
      ],
      "execution_count": null,
      "outputs": []
    },
    {
      "cell_type": "code",
      "metadata": {
        "id": "8E8CxV1GtzVR",
        "colab_type": "code",
        "colab": {}
      },
      "source": [
        "matriz30 = pd.DataFrame.to_numpy(dfstents30)\n",
        "matriz365 = pd.DataFrame.to_numpy(dfstents365)"
      ],
      "execution_count": null,
      "outputs": []
    },
    {
      "cell_type": "code",
      "metadata": {
        "id": "4PXmn1Zo-UrM",
        "colab_type": "code",
        "colab": {
          "base_uri": "https://localhost:8080/",
          "height": 50
        },
        "outputId": "34b7ddba-8f3d-46cd-fede-432153595de4"
      },
      "source": [
        "grupos30 = np.array(np.unique(matriz30[:,0], return_counts=True))\n",
        "grupos30"
      ],
      "execution_count": null,
      "outputs": [
        {
          "output_type": "execute_result",
          "data": {
            "text/plain": [
              "array([['control', 'treatment'],\n",
              "       [227, 224]], dtype=object)"
            ]
          },
          "metadata": {
            "tags": []
          },
          "execution_count": 11
        }
      ]
    },
    {
      "cell_type": "code",
      "metadata": {
        "id": "lXuPfXKSwPwn",
        "colab_type": "code",
        "colab": {
          "base_uri": "https://localhost:8080/",
          "height": 50
        },
        "outputId": "1fe9e510-5afa-4c61-f7ed-4c30494221eb"
      },
      "source": [
        "grupos365 = np.array(np.unique(matriz365[:,0], return_counts=True))\n",
        "grupos365"
      ],
      "execution_count": null,
      "outputs": [
        {
          "output_type": "execute_result",
          "data": {
            "text/plain": [
              "array([['control', 'treatment'],\n",
              "       [227, 224]], dtype=object)"
            ]
          },
          "metadata": {
            "tags": []
          },
          "execution_count": 12
        }
      ]
    },
    {
      "cell_type": "code",
      "metadata": {
        "id": "c6jpNEYnsosy",
        "colab_type": "code",
        "colab": {
          "base_uri": "https://localhost:8080/",
          "height": 50
        },
        "outputId": "a93a78c1-d498-4fba-aec3-d0dd5197a61f"
      },
      "source": [
        "eventos30 = np.array(np.unique(matriz30[:,1], return_counts=True))\n",
        "eventos30"
      ],
      "execution_count": null,
      "outputs": [
        {
          "output_type": "execute_result",
          "data": {
            "text/plain": [
              "array([['no event', 'stroke'],\n",
              "       [405, 46]], dtype=object)"
            ]
          },
          "metadata": {
            "tags": []
          },
          "execution_count": 13
        }
      ]
    },
    {
      "cell_type": "code",
      "metadata": {
        "id": "cEYRjqqdwai8",
        "colab_type": "code",
        "colab": {
          "base_uri": "https://localhost:8080/",
          "height": 50
        },
        "outputId": "3118c7d9-a706-44e2-beee-a554b42c966c"
      },
      "source": [
        "eventos365 = np.array(np.unique(matriz365[:,1], return_counts=True))\n",
        "eventos365"
      ],
      "execution_count": null,
      "outputs": [
        {
          "output_type": "execute_result",
          "data": {
            "text/plain": [
              "array([['no event', 'stroke'],\n",
              "       [378, 73]], dtype=object)"
            ]
          },
          "metadata": {
            "tags": []
          },
          "execution_count": 14
        }
      ]
    },
    {
      "cell_type": "code",
      "metadata": {
        "id": "sWGFybVxnkq7",
        "colab_type": "code",
        "colab": {
          "base_uri": "https://localhost:8080/",
          "height": 268
        },
        "outputId": "64bce299-3ce5-4e5b-88ab-73a44af6cee4"
      },
      "source": [
        "plt.figure(figsize=(15,5))\n",
        "plt.subplot(221)\n",
        "plt.hist(matriz30[matriz30[:,0]=='control'][:,1])\n",
        "plt.title('Grupo control [0-30] días')\n",
        "plt.subplot(222)\n",
        "plt.hist(matriz30[matriz30[:,0]=='treatment'][:,1])\n",
        "plt.title('Grupo tratamiento [0-30] días')\n",
        "plt.subplot(223)\n",
        "plt.hist(matriz365[matriz365[:,0]=='control'][:,1])\n",
        "plt.title('Grupo control [0-365] días')\n",
        "plt.subplot(224)\n",
        "plt.hist(matriz365[matriz365[:,0]=='treatment'][:,1])\n",
        "plt.title('Grupo tratamiento [0-365] días')"
      ],
      "execution_count": null,
      "outputs": [
        {
          "output_type": "execute_result",
          "data": {
            "text/plain": [
              "Text(0.5, 1.0, 'Grupo tratamiento [0-365] días')"
            ]
          },
          "metadata": {
            "tags": []
          },
          "execution_count": 15
        },
        {
          "output_type": "display_data",
          "data": {
            "image/png": "[encoded data removed]",
            "text/plain": [
              "<Figure size 1080x360 with 4 Axes>"
            ]
          },
          "metadata": {
            "tags": [],
            "needs_background": "light"
          }
        }
      ]
    },
    {
      "cell_type": "markdown",
      "metadata": {
        "id": "g2ukqL6O13s7",
        "colab_type": "text"
      },
      "source": [
        "**Respuesta**\n",
        "\n",
        "R: ?"
      ]
    },
    {
      "cell_type": "markdown",
      "metadata": {
        "id": "z_yCpkXC8aX3",
        "colab_type": "text"
      },
      "source": [
        "Referencia  \n",
        "* Chimowitz MI, Lynn MJ, Derdeyn CP, et al. 2011. Stenting versus Aggressive Med- ical Therapy for Intracranial Arterial Stenosis. New England Journal of Medicine 365:993- 1003. www.nejm.org/doi/full/10.1056/NEJMoa1105335. NY Times article reporting on the study: www.nytimes.com/2011/09/08/health/research/08stent.html."
      ]
    },
    {
      "cell_type": "markdown",
      "metadata": {
        "id": "-qhD1n0jizW1",
        "colab_type": "text"
      },
      "source": [
        "##Medidas de tendencia central"
      ]
    },
    {
      "cell_type": "markdown",
      "metadata": {
        "id": "6WT3LTHwBTxs",
        "colab_type": "text"
      },
      "source": [
        "###Media aritmética\n",
        "La media aritmética es el valor obtenido al sumar todos los datos y dividir el resultado entre el número total elementos. Se suele representar con $\\bar{x}$ (o a veces con $\\mu$). Si tenemos una muestra de $n$ valores, $x_i$, la media aritmética, $\\bar{x}$, es la suma de los valores divididos por el numero de elementos $n$; en otras palabras:\n",
        "\n",
        "$$ \\bar{x} = \\frac{1}{n}\\sum_i x_i$$\n",
        "\n",
        "La media aritmética también se puede calcular a partir de la frecuencia absoluta:\n",
        "\n",
        "$$\\bar{x} = \\frac{\\sum_i x_i\\cdot n_i}{\\sum_i n_i}$$\n",
        "\n"
      ]
    },
    {
      "cell_type": "markdown",
      "metadata": {
        "id": "P5c5uWbJldUQ",
        "colab_type": "text"
      },
      "source": [
        "####Ejemplo de mediana aritmética con valores enteros"
      ]
    },
    {
      "cell_type": "code",
      "metadata": {
        "id": "l3-Jhc9Kllhu",
        "colab_type": "code",
        "colab": {
          "base_uri": "https://localhost:8080/",
          "height": 34
        },
        "outputId": "17a17f76-8143-446c-83f7-f9895b40cf5a"
      },
      "source": [
        "datos_enteros = np.random.randint(1,100,10000) # 10 mil números enteros entre 1 y 99\n",
        "datos_enteros.shape"
      ],
      "execution_count": null,
      "outputs": [
        {
          "output_type": "execute_result",
          "data": {
            "text/plain": [
              "(10000,)"
            ]
          },
          "metadata": {
            "tags": []
          },
          "execution_count": 24
        }
      ]
    },
    {
      "cell_type": "code",
      "metadata": {
        "id": "iContZ88m4t-",
        "colab_type": "code",
        "colab": {
          "base_uri": "https://localhost:8080/",
          "height": 34
        },
        "outputId": "3aa7b05f-29a9-4646-ac9a-b99d04dd2df1"
      },
      "source": [
        "np.mean(datos_enteros)"
      ],
      "execution_count": null,
      "outputs": [
        {
          "output_type": "execute_result",
          "data": {
            "text/plain": [
              "50.4902"
            ]
          },
          "metadata": {
            "tags": []
          },
          "execution_count": 25
        }
      ]
    },
    {
      "cell_type": "markdown",
      "metadata": {
        "id": "yMOSvRiKm9BK",
        "colab_type": "text"
      },
      "source": [
        "Media aritmética a partir de los datos."
      ]
    },
    {
      "cell_type": "code",
      "metadata": {
        "id": "8gwoN9HVnNW3",
        "colab_type": "code",
        "colab": {
          "base_uri": "https://localhost:8080/",
          "height": 34
        },
        "outputId": "0ca86c6d-6dae-4c47-884f-61c587692e81"
      },
      "source": [
        "media = np.sum(datos_enteros)/len(datos_enteros)\n",
        "media"
      ],
      "execution_count": null,
      "outputs": [
        {
          "output_type": "execute_result",
          "data": {
            "text/plain": [
              "50.4902"
            ]
          },
          "metadata": {
            "tags": []
          },
          "execution_count": 26
        }
      ]
    },
    {
      "cell_type": "markdown",
      "metadata": {
        "id": "zWHgrrFgoLkf",
        "colab_type": "text"
      },
      "source": [
        "Media aritmética usando la frecuencia absoluta."
      ]
    },
    {
      "cell_type": "code",
      "metadata": {
        "id": "Dg5hBs7mmJGy",
        "colab_type": "code",
        "colab": {
          "base_uri": "https://localhost:8080/",
          "height": 252
        },
        "outputId": "df508ca5-17e1-49ca-8ed9-4e07ca225a1b"
      },
      "source": [
        "frecuencia_absoluta = np.unique(datos_enteros, return_counts=True)\n",
        "frecuencia_absoluta"
      ],
      "execution_count": null,
      "outputs": [
        {
          "output_type": "execute_result",
          "data": {
            "text/plain": [
              "(array([ 1,  2,  3,  4,  5,  6,  7,  8,  9, 10, 11, 12, 13, 14, 15, 16, 17,\n",
              "        18, 19, 20, 21, 22, 23, 24, 25, 26, 27, 28, 29, 30, 31, 32, 33, 34,\n",
              "        35, 36, 37, 38, 39, 40, 41, 42, 43, 44, 45, 46, 47, 48, 49, 50, 51,\n",
              "        52, 53, 54, 55, 56, 57, 58, 59, 60, 61, 62, 63, 64, 65, 66, 67, 68,\n",
              "        69, 70, 71, 72, 73, 74, 75, 76, 77, 78, 79, 80, 81, 82, 83, 84, 85,\n",
              "        86, 87, 88, 89, 90, 91, 92, 93, 94, 95, 96, 97, 98, 99]),\n",
              " array([107,  91, 110,  97,  97,  99,  96,  87,  92,  75, 129, 105, 100,\n",
              "        101,  97,  97,  99, 115, 105, 109,  96, 102,  99,  97, 101, 120,\n",
              "        102,  91,  95,  97,  96,  97, 106,  89,  89,  89, 110,  75, 104,\n",
              "         97, 108,  82,  92, 100, 114,  97, 107,  96, 100, 101, 107, 109,\n",
              "        114,  89,  91,  73, 113,  97,  95, 115, 100, 102, 119,  90, 107,\n",
              "        112, 100,  87, 116, 111,  81,  99, 106, 125,  93, 119, 109,  94,\n",
              "         97, 104, 102,  86, 115, 110, 104,  94, 104, 106, 108, 106,  95,\n",
              "        125,  98, 113, 105,  98,  98,  90, 112]))"
            ]
          },
          "metadata": {
            "tags": []
          },
          "execution_count": 27
        }
      ]
    },
    {
      "cell_type": "code",
      "metadata": {
        "id": "wULDQkS_mh-1",
        "colab_type": "code",
        "colab": {
          "base_uri": "https://localhost:8080/",
          "height": 34
        },
        "outputId": "44265cc1-a70f-4913-cf21-12433831c812"
      },
      "source": [
        "np.sum(frecuencia_absoluta[0]*frecuencia_absoluta[1])/np.sum(frecuencia_absoluta[1])"
      ],
      "execution_count": null,
      "outputs": [
        {
          "output_type": "execute_result",
          "data": {
            "text/plain": [
              "50.4902"
            ]
          },
          "metadata": {
            "tags": []
          },
          "execution_count": 28
        }
      ]
    },
    {
      "cell_type": "markdown",
      "metadata": {
        "id": "9YZ1UNuKlXyc",
        "colab_type": "text"
      },
      "source": [
        "####Ejemplo de mediana aritmética con datos aleatorios"
      ]
    },
    {
      "cell_type": "code",
      "metadata": {
        "id": "-bWlJF_bCmVt",
        "colab_type": "code",
        "colab": {
          "base_uri": "https://localhost:8080/",
          "height": 101
        },
        "outputId": "af34397a-3d5a-4494-8504-e71ba83c07ac"
      },
      "source": [
        "datos = np.random.randn(5, 4) # datos normalmente distribuidos\n",
        "datos"
      ],
      "execution_count": null,
      "outputs": [
        {
          "output_type": "execute_result",
          "data": {
            "text/plain": [
              "array([[-1.0856306 ,  0.99734545,  0.2829785 , -1.50629471],\n",
              "       [-0.57860025,  1.65143654, -2.42667924, -0.42891263],\n",
              "       [ 1.26593626, -0.8667404 , -0.67888615, -0.09470897],\n",
              "       [ 1.49138963, -0.638902  , -0.44398196, -0.43435128],\n",
              "       [ 2.20593008,  2.18678609,  1.0040539 ,  0.3861864 ]])"
            ]
          },
          "metadata": {
            "tags": []
          },
          "execution_count": 8
        }
      ]
    },
    {
      "cell_type": "code",
      "metadata": {
        "id": "YWMAfidwCuoj",
        "colab_type": "code",
        "colab": {
          "base_uri": "https://localhost:8080/",
          "height": 34
        },
        "outputId": "104f4c91-cadd-4300-9401-32c5804f2624"
      },
      "source": [
        "datos.mean() # Calcula la media aritmetica"
      ],
      "execution_count": null,
      "outputs": [
        {
          "output_type": "execute_result",
          "data": {
            "text/plain": [
              "0.11441773195529023"
            ]
          },
          "metadata": {
            "tags": []
          },
          "execution_count": 9
        }
      ]
    },
    {
      "cell_type": "code",
      "metadata": {
        "id": "oC2MLIFnEftN",
        "colab_type": "code",
        "colab": {
          "base_uri": "https://localhost:8080/",
          "height": 34
        },
        "outputId": "3ca118b3-6658-4f85-db93-19b04bda00ea"
      },
      "source": [
        "np.mean(datos) # Mismo resultado"
      ],
      "execution_count": null,
      "outputs": [
        {
          "output_type": "execute_result",
          "data": {
            "text/plain": [
              "0.11441773195529023"
            ]
          },
          "metadata": {
            "tags": []
          },
          "execution_count": 10
        }
      ]
    },
    {
      "cell_type": "code",
      "metadata": {
        "id": "bi9J5DUtEwwd",
        "colab_type": "code",
        "colab": {
          "base_uri": "https://localhost:8080/",
          "height": 34
        },
        "outputId": "ec14cb11-e07c-49cd-edbd-451d31909f92"
      },
      "source": [
        "datos.mean(axis=1) # media aritmetica de cada fila"
      ],
      "execution_count": null,
      "outputs": [
        {
          "output_type": "execute_result",
          "data": {
            "text/plain": [
              "array([-0.32790034, -0.4456889 , -0.09359982, -0.0064614 ,  1.44573912])"
            ]
          },
          "metadata": {
            "tags": []
          },
          "execution_count": 11
        }
      ]
    },
    {
      "cell_type": "code",
      "metadata": {
        "id": "_S-oDkoVEydQ",
        "colab_type": "code",
        "colab": {
          "base_uri": "https://localhost:8080/",
          "height": 34
        },
        "outputId": "39611a15-c479-4a1e-da65-a98b83736094"
      },
      "source": [
        "np.mean(datos, axis=1) # mismo resultado"
      ],
      "execution_count": null,
      "outputs": [
        {
          "output_type": "execute_result",
          "data": {
            "text/plain": [
              "array([-0.32790034, -0.4456889 , -0.09359982, -0.0064614 ,  1.44573912])"
            ]
          },
          "metadata": {
            "tags": []
          },
          "execution_count": 12
        }
      ]
    },
    {
      "cell_type": "code",
      "metadata": {
        "id": "SwnGzAw2E5FQ",
        "colab_type": "code",
        "colab": {
          "base_uri": "https://localhost:8080/",
          "height": 34
        },
        "outputId": "b0759cb7-ace6-47e1-d5a1-6d3f3a1cdfa8"
      },
      "source": [
        "datos.mean(axis=0) # media aritmetica de cada columna"
      ],
      "execution_count": null,
      "outputs": [
        {
          "output_type": "execute_result",
          "data": {
            "text/plain": [
              "array([ 0.65980502,  0.66598513, -0.45250299, -0.41561624])"
            ]
          },
          "metadata": {
            "tags": []
          },
          "execution_count": 13
        }
      ]
    },
    {
      "cell_type": "markdown",
      "metadata": {
        "id": "vr0RBr44gf-g",
        "colab_type": "text"
      },
      "source": [
        "###Media aritmética ponderada\n",
        "La media aritmética ponderada es el valor obtenido al sumar el producto entre el dato y el peso que este tiene y dividir por la suma de los pesos. La representación más común de la media aritmética ponderada es $\\bar{x_p}$ y su formula es:\n",
        "$$ \\bar{x_p} = \\frac{\\sum_i x_i \\cdot w_i}{\\sum_i w_i}$$\n",
        "\n",
        "Usando la frecuencia absoluta\n",
        "$$ \\bar{x_p} = \\frac{\\sum_i x_i \\cdot w_i\\cdot n_i}{\\sum_i w_i\\cdot n_i}$$\n",
        "\n",
        "Un ejemplo de esto se puede ver en las notas de tres exámenes de un estudiante. Las notas de los tres exámenes de un alumno son 7, 5 y 9 (sobre 10). La media aritmética es $\\bar{x} = 7$.\n",
        "\n",
        "Supongamos que el peso de cada examen es 25%, 35% y 40%. Calculamos la media ponderada:\n",
        "\n",
        "$$\\bar{x_p} = \\frac{7\\cdot25 + 5 \\cdot 35 + 9 \\cdot 40}{25 + 35 + 40}= 7.1$$\n"
      ]
    },
    {
      "cell_type": "markdown",
      "metadata": {
        "id": "BuOY02RvFKRh",
        "colab_type": "text"
      },
      "source": [
        "###Mediana\n",
        "Mediana: La mediana es el valor que ocupa el lugar central de todos los datos cuando éstos están ordenados de menor a mayor. Se representa con $\\tilde{x}$\n",
        "\n",
        "### ejemplo\n",
        "Si tenemos los números 9,3,1,8,3,6.\n",
        "\n",
        "Entonces la media aritmética es:\n",
        "```\n",
        "9+3+1+8+3+6 = 30\n",
        "30 / 5 = 6\n",
        "```\n",
        "Mientras que la mediana es:\n",
        "```\n",
        "1,3,3,6,8,9 => mediana = 4.5\n",
        "````\n"
      ]
    },
    {
      "cell_type": "markdown",
      "metadata": {
        "id": "mOkICC09DA8a",
        "colab_type": "text"
      },
      "source": [
        "###Moda\n",
        "La moda es el valor que tiene mayor frecuencia absoluta. En un histograma de frecuencias la moda se visualiza como el pico más \"prominente\". Los histogramas pueden tener uno, dos o más picos prominentes y en ese caso se dice que las distribuciones son unimodales, bimodales o multimodales respectivamente."
      ]
    },
    {
      "cell_type": "markdown",
      "metadata": {
        "id": "5QiM4PJz_mRp",
        "colab_type": "text"
      },
      "source": [
        "#### Ejemplo Media, Mediana y Moda\n",
        "Calcular la edad promedio, la mediana y la moda en un colegio de mil estudiantes que estan entre los  y los 14 años. Dibujar el histrograma de frecuencias, junto con los valores de la media y la mediana."
      ]
    },
    {
      "cell_type": "code",
      "metadata": {
        "id": "0xzL7-u1GIbI",
        "colab_type": "code",
        "colab": {
          "base_uri": "https://localhost:8080/",
          "height": 34
        },
        "outputId": "57828806-cab8-4ec7-816c-82db945c1cfa"
      },
      "source": [
        "edad_estudiantes = np.random.randint(7, 15, 1000)\n",
        "edad_estudiantes.shape"
      ],
      "execution_count": null,
      "outputs": [
        {
          "output_type": "execute_result",
          "data": {
            "text/plain": [
              "(1000,)"
            ]
          },
          "metadata": {
            "tags": []
          },
          "execution_count": 31
        }
      ]
    },
    {
      "cell_type": "code",
      "metadata": {
        "id": "oaXHN5HP_9S_",
        "colab_type": "code",
        "colab": {
          "base_uri": "https://localhost:8080/",
          "height": 50
        },
        "outputId": "f0929cba-c7cd-4126-f927-0872994b3245"
      },
      "source": [
        "print(f'El valor promedio es {np.mean(edad_estudiantes)} años')\n",
        "print(f'La mediana es {np.median(edad_estudiantes)} años')"
      ],
      "execution_count": null,
      "outputs": [
        {
          "output_type": "stream",
          "text": [
            "El valor promedio es 10.624 años\n",
            "La mediana es 11.0 años\n"
          ],
          "name": "stdout"
        }
      ]
    },
    {
      "cell_type": "code",
      "metadata": {
        "id": "eU6YQ1hysrEF",
        "colab_type": "code",
        "colab": {
          "base_uri": "https://localhost:8080/",
          "height": 50
        },
        "outputId": "990b7f40-1758-4fbe-bea8-9fd7068a08d9"
      },
      "source": [
        "freq = np.unique(edad_estudiantes, return_counts=True)\n",
        "freq"
      ],
      "execution_count": null,
      "outputs": [
        {
          "output_type": "execute_result",
          "data": {
            "text/plain": [
              "(array([ 7,  8,  9, 10, 11, 12, 13, 14]),\n",
              " array([117, 132, 108, 124, 109, 128, 146, 136]))"
            ]
          },
          "metadata": {
            "tags": []
          },
          "execution_count": 36
        }
      ]
    },
    {
      "cell_type": "code",
      "metadata": {
        "id": "dfKQVqMTtLGO",
        "colab_type": "code",
        "colab": {
          "base_uri": "https://localhost:8080/",
          "height": 34
        },
        "outputId": "36f413a9-868b-41b0-ec29-9a92a2a0ac2a"
      },
      "source": [
        "stats.mode(edad_estudiantes)"
      ],
      "execution_count": null,
      "outputs": [
        {
          "output_type": "execute_result",
          "data": {
            "text/plain": [
              "ModeResult(mode=array([13]), count=array([146]))"
            ]
          },
          "metadata": {
            "tags": []
          },
          "execution_count": 44
        }
      ]
    },
    {
      "cell_type": "code",
      "metadata": {
        "id": "Su_BXKoOtlWV",
        "colab_type": "code",
        "colab": {
          "base_uri": "https://localhost:8080/",
          "height": 34
        },
        "outputId": "8ecd5ca1-08c1-4c18-da2c-325fc366c431"
      },
      "source": [
        "print(f'La moda es {stats.mode(edad_estudiantes)[0].item()} años')"
      ],
      "execution_count": null,
      "outputs": [
        {
          "output_type": "stream",
          "text": [
            "La moda es 13 años\n"
          ],
          "name": "stdout"
        }
      ]
    },
    {
      "cell_type": "code",
      "metadata": {
        "id": "1lYQHZMVAjFa",
        "colab_type": "code",
        "colab": {
          "base_uri": "https://localhost:8080/",
          "height": 282
        },
        "outputId": "8b8efabc-052b-4ec4-b12d-7569687c6cfd"
      },
      "source": [
        "plt.hist(edad_estudiantes, bins=, color='r', edgecolor='k')\n",
        "plt.axvline(np.mean(edad_estudiantes), color='k', linestyle='dashed', linewidth=1)\n",
        "plt.axvline(np.median(edad_estudiantes), color='b', linestyle='dashed', linewidth=1)"
      ],
      "execution_count": null,
      "outputs": [
        {
          "output_type": "execute_result",
          "data": {
            "text/plain": [
              "<matplotlib.lines.Line2D at 0x7f0c0fa2dc18>"
            ]
          },
          "metadata": {
            "tags": []
          },
          "execution_count": 38
        },
        {
          "output_type": "display_data",
          "data": {
            "image/png": "[encoded data removed]",
            "text/plain": [
              "<Figure size 432x288 with 1 Axes>"
            ]
          },
          "metadata": {
            "tags": []
          }
        }
      ]
    },
    {
      "cell_type": "markdown",
      "metadata": {
        "id": "Ec9S3GH1t0Bc",
        "colab_type": "text"
      },
      "source": [
        "##Medidas de variabilidad\n",
        "Son intervalos que indican la dispersión de los datos en la escala de medición. Una medida de dispersión o variabilidad nos determina el grado de acercamiento o distanciamiento de los valores de una distribución frente a su promedio de localización, indicando por medio de un número si las diferentes puntuaciones de una variable están muy alejadas de la media. Cuanto mayor sea ese valor, mayor será la variabilidad, y cuanto menor sea, más homogénea será a la media. Cuando es cero quiere decir que todos los datos son iguales."
      ]
    },
    {
      "cell_type": "markdown",
      "metadata": {
        "id": "Kt0mnN9XvCS2",
        "colab_type": "text"
      },
      "source": [
        "###Desviación respecto a la media\n",
        "La desviación respecto a la media es la diferencia en valor absoluto entre cada valor de la variable estadística y la media aritmética.\n",
        "$$D_i = |x_i - \\bar{x}|$$"
      ]
    },
    {
      "cell_type": "markdown",
      "metadata": {
        "id": "5M4edmYevP97",
        "colab_type": "text"
      },
      "source": [
        "###Varianza\n",
        "La varianza es la media aritmética del cuadrado de las desviaciones respecto a la media de una distribución estadística. La varianza intenta describir la dispersión de los datos. Se representa como $\\sigma^2$.\n",
        "\n",
        "$$\\sigma^2 = \\frac{\\sum_{i=1}^{n} (x_i - \\bar{x})^2}{n}$$"
      ]
    },
    {
      "cell_type": "markdown",
      "metadata": {
        "id": "Gb442lsMvssZ",
        "colab_type": "text"
      },
      "source": [
        "###Desviación estandar\n",
        "La desviación estandar es la raíz cuadrada de la varianza. Se representa con la letra griega $\\sigma$.\n",
        "\n",
        "$$\\sigma = \\sqrt{\\frac{\\sum_{i=1}^{n} (x_i - \\bar{x})^2}{n}}$$"
      ]
    },
    {
      "cell_type": "markdown",
      "metadata": {
        "id": "lWD8igLGL-nB",
        "colab_type": "text"
      },
      "source": [
        "###Ejemplo"
      ]
    },
    {
      "cell_type": "code",
      "metadata": {
        "id": "fVdcyfkBMA6U",
        "colab_type": "code",
        "colab": {
          "base_uri": "https://localhost:8080/",
          "height": 101
        },
        "outputId": "b4da51e2-2000-4c7d-c998-6d64ce36fafa"
      },
      "source": [
        "datos = np.random.randn(5, 4) # datos normalmente distribuidos\n",
        "datos"
      ],
      "execution_count": 72,
      "outputs": [
        {
          "output_type": "execute_result",
          "data": {
            "text/plain": [
              "array([[-0.83690774,  0.45987201, -1.42670038, -0.55672975],\n",
              "       [ 0.17983988, -2.14446388, -0.72708899,  0.30741813],\n",
              "       [-0.38753876, -0.80352208,  0.93898923,  0.43781947],\n",
              "       [ 1.14109158,  0.17145177, -1.54957884, -0.97402348],\n",
              "       [-1.0491106 , -0.46483438, -0.49055989,  1.0007457 ]])"
            ]
          },
          "metadata": {
            "tags": []
          },
          "execution_count": 72
        }
      ]
    },
    {
      "cell_type": "code",
      "metadata": {
        "id": "-OtVSCsDMCJW",
        "colab_type": "code",
        "colab": {
          "base_uri": "https://localhost:8080/",
          "height": 34
        },
        "outputId": "3879bf92-171d-45e6-c6d0-c9fc53f43a99"
      },
      "source": [
        "# varianza\n",
        "np.var(datos) "
      ],
      "execution_count": 73,
      "outputs": [
        {
          "output_type": "execute_result",
          "data": {
            "text/plain": [
              "0.7663389597869844"
            ]
          },
          "metadata": {
            "tags": []
          },
          "execution_count": 73
        }
      ]
    },
    {
      "cell_type": "code",
      "metadata": {
        "id": "NhfcPJFEMHKU",
        "colab_type": "code",
        "colab": {
          "base_uri": "https://localhost:8080/",
          "height": 34
        },
        "outputId": "dde06ff7-ce18-45b4-9b3a-71d09847d6fb"
      },
      "source": [
        "np.var(datos, 0) # varianza de cada columna"
      ],
      "execution_count": 74,
      "outputs": [
        {
          "output_type": "execute_result",
          "data": {
            "text/plain": [
              "array([0.62083343, 0.83079548, 0.79375026, 0.50741774])"
            ]
          },
          "metadata": {
            "tags": []
          },
          "execution_count": 74
        }
      ]
    },
    {
      "cell_type": "code",
      "metadata": {
        "id": "xCeHiIGLMMVA",
        "colab_type": "code",
        "colab": {
          "base_uri": "https://localhost:8080/",
          "height": 34
        },
        "outputId": "615c2b21-3050-4a23-9d02-455108acce3d"
      },
      "source": [
        " # Desviación típica\n",
        "np.std(datos)"
      ],
      "execution_count": 75,
      "outputs": [
        {
          "output_type": "execute_result",
          "data": {
            "text/plain": [
              "0.8754078819538835"
            ]
          },
          "metadata": {
            "tags": []
          },
          "execution_count": 75
        }
      ]
    },
    {
      "cell_type": "code",
      "metadata": {
        "id": "jalSpbiQMNwt",
        "colab_type": "code",
        "colab": {
          "base_uri": "https://localhost:8080/",
          "height": 34
        },
        "outputId": "fa561901-1320-488e-d6eb-caa37c173a06"
      },
      "source": [
        "np.std(datos, 0) # Desviación típica de cada columna"
      ],
      "execution_count": 76,
      "outputs": [
        {
          "output_type": "execute_result",
          "data": {
            "text/plain": [
              "array([0.78792984, 0.91147983, 0.89092663, 0.71233261])"
            ]
          },
          "metadata": {
            "tags": []
          },
          "execution_count": 76
        }
      ]
    },
    {
      "cell_type": "markdown",
      "metadata": {
        "id": "bxwtwZ0VwFqH",
        "colab_type": "text"
      },
      "source": [
        "##Medidas de localización\n",
        "Las medidas de localización dividen la distribución en partes iguales, sirven para clasificar a un individuo o elemento dentro de una determinada población o muestra."
      ]
    },
    {
      "cell_type": "markdown",
      "metadata": {
        "id": "otirOud6wQXG",
        "colab_type": "text"
      },
      "source": [
        "###Cuartiles\n",
        "Medida de localización que divide la población o muestra en cuatro partes iguales.\n",
        "\n",
        "* $Q_1$ = Valor de la variable que deja a la izquierda el 25% de la distribución.\n",
        "* $Q_2$ = Valor de la variable que deja a la izquierda el 50% de la distribución = mediana.\n",
        "* $Q_3$ = Valor de la variable que deja a la izquierda el 75% de la distribución.\n"
      ]
    },
    {
      "cell_type": "markdown",
      "metadata": {
        "id": "I3grTHZWwSgk",
        "colab_type": "text"
      },
      "source": [
        "###Deciles\n",
        "Medida de localización que divide la población o muestra en 10 partes iguales. Es utilizada en  variables continuas.\n",
        "\n",
        "$d_k$ = Decil k-simo es aquel valor de la variable que deja a su izquierda el k·10 % de la distribución."
      ]
    },
    {
      "cell_type": "markdown",
      "metadata": {
        "id": "8PSMNUI9wVUE",
        "colab_type": "text"
      },
      "source": [
        "###Percentiles\n",
        "Medida de localización que divide la población o muestra en 100 partes iguales y su uso es muy común para las variables continuas.\n",
        "\n",
        "$p_k$ = Percentil k-simo es aquel valor de la variable que deja a su izquierda el k % de la distribución."
      ]
    },
    {
      "cell_type": "code",
      "metadata": {
        "id": "lZcarLac8bor",
        "colab_type": "code",
        "colab": {}
      },
      "source": [
        ""
      ],
      "execution_count": null,
      "outputs": []
    },
    {
      "cell_type": "markdown",
      "metadata": {
        "id": "BZgSQMFXKU-3",
        "colab_type": "text"
      },
      "source": [
        "## Ejercicio general\n",
        "Iris data"
      ]
    },
    {
      "cell_type": "code",
      "metadata": {
        "id": "RXb008qvKjAW",
        "colab_type": "code",
        "colab": {}
      },
      "source": [
        "from sklearn.datasets import load_iris   \n",
        "iris_obj = load_iris()"
      ],
      "execution_count": 68,
      "outputs": []
    },
    {
      "cell_type": "code",
      "metadata": {
        "id": "-zSgs3I4KmkZ",
        "colab_type": "code",
        "colab": {}
      },
      "source": [
        "iris = pd.DataFrame(iris_obj.data, columns=iris_obj.feature_names,index=pd.Index([i for i in range(iris_obj.data.shape[0])])).join(pd.DataFrame(iris_obj.target, columns=pd.Index([\"species\"]), index=pd.Index([i for i in range(iris_obj.target.shape[0])])))\n",
        "iris # prints iris data\n",
        "iris.species.replace({0: 'setosa', 1: 'versicolor', 2: 'virginica'}, inplace=True)\n"
      ],
      "execution_count": 70,
      "outputs": []
    },
    {
      "cell_type": "code",
      "metadata": {
        "id": "4UuM5VUfKqEh",
        "colab_type": "code",
        "colab": {
          "base_uri": "https://localhost:8080/",
          "height": 195
        },
        "outputId": "3b29facb-9fab-4f59-a43d-1c18bcb34b6d"
      },
      "source": [
        "iris.head()"
      ],
      "execution_count": 71,
      "outputs": [
        {
          "output_type": "execute_result",
          "data": {
            "text/html": [
              "<div>\n",
              "<style scoped>\n",
              "    .dataframe tbody tr th:only-of-type {\n",
              "        vertical-align: middle;\n",
              "    }\n",
              "\n",
              "    .dataframe tbody tr th {\n",
              "        vertical-align: top;\n",
              "    }\n",
              "\n",
              "    .dataframe thead th {\n",
              "        text-align: right;\n",
              "    }\n",
              "</style>\n",
              "<table border=\"1\" class=\"dataframe\">\n",
              "  <thead>\n",
              "    <tr style=\"text-align: right;\">\n",
              "      <th></th>\n",
              "      <th>sepal length (cm)</th>\n",
              "      <th>sepal width (cm)</th>\n",
              "      <th>petal length (cm)</th>\n",
              "      <th>petal width (cm)</th>\n",
              "      <th>species</th>\n",
              "    </tr>\n",
              "  </thead>\n",
              "  <tbody>\n",
              "    <tr>\n",
              "      <th>0</th>\n",
              "      <td>5.1</td>\n",
              "      <td>3.5</td>\n",
              "      <td>1.4</td>\n",
              "      <td>0.2</td>\n",
              "      <td>setosa</td>\n",
              "    </tr>\n",
              "    <tr>\n",
              "      <th>1</th>\n",
              "      <td>4.9</td>\n",
              "      <td>3.0</td>\n",
              "      <td>1.4</td>\n",
              "      <td>0.2</td>\n",
              "      <td>setosa</td>\n",
              "    </tr>\n",
              "    <tr>\n",
              "      <th>2</th>\n",
              "      <td>4.7</td>\n",
              "      <td>3.2</td>\n",
              "      <td>1.3</td>\n",
              "      <td>0.2</td>\n",
              "      <td>setosa</td>\n",
              "    </tr>\n",
              "    <tr>\n",
              "      <th>3</th>\n",
              "      <td>4.6</td>\n",
              "      <td>3.1</td>\n",
              "      <td>1.5</td>\n",
              "      <td>0.2</td>\n",
              "      <td>setosa</td>\n",
              "    </tr>\n",
              "    <tr>\n",
              "      <th>4</th>\n",
              "      <td>5.0</td>\n",
              "      <td>3.6</td>\n",
              "      <td>1.4</td>\n",
              "      <td>0.2</td>\n",
              "      <td>setosa</td>\n",
              "    </tr>\n",
              "  </tbody>\n",
              "</table>\n",
              "</div>"
            ],
            "text/plain": [
              "   sepal length (cm)  sepal width (cm)  ...  petal width (cm)  species\n",
              "0                5.1               3.5  ...               0.2   setosa\n",
              "1                4.9               3.0  ...               0.2   setosa\n",
              "2                4.7               3.2  ...               0.2   setosa\n",
              "3                4.6               3.1  ...               0.2   setosa\n",
              "4                5.0               3.6  ...               0.2   setosa\n",
              "\n",
              "[5 rows x 5 columns]"
            ]
          },
          "metadata": {
            "tags": []
          },
          "execution_count": 71
        }
      ]
    },
    {
      "cell_type": "code",
      "metadata": {
        "id": "8_rh1WJxLFW9",
        "colab_type": "code",
        "colab": {}
      },
      "source": [
        ""
      ],
      "execution_count": null,
      "outputs": []
    }
  ]
}