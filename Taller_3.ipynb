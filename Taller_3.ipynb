{
  "nbformat": 4,
  "nbformat_minor": 0,
  "metadata": {
    "colab": {
      "name": "Taller_3.ipynb",
      "provenance": [],
      "collapsed_sections": [],
      "authorship_tag": "ABX9TyP7wShJMB8H5k5wUfUWm+2N",
      "include_colab_link": true
    },
    "kernelspec": {
      "name": "python3",
      "display_name": "Python 3"
    }
  },
  "cells": [
    {
      "cell_type": "markdown",
      "metadata": {
        "id": "view-in-github",
        "colab_type": "text"
      },
      "source": [
        "<a href=\"https://colab.research.google.com/github/chsanabriam/Esatdistica_Aplicada/blob/master/Taller_3.ipynb\" target=\"_parent\"><img src=\"https://colab.research.google.com/assets/colab-badge.svg\" alt=\"Open In Colab\"/></a>"
      ]
    },
    {
      "cell_type": "markdown",
      "metadata": {
        "id": "fIUHZAyUDRt3"
      },
      "source": [
        "# Taller 3\n",
        "Considere un experimento estadístico en el que tres dados se lancen una vez.\n",
        "\n",
        "El siguiente código genera el espacio muestral del experimento"
      ]
    },
    {
      "cell_type": "code",
      "metadata": {
        "id": "8-fReXD6xQNB"
      },
      "source": [
        "import itertools\n",
        "import numpy as np\n",
        "listas = [range(1,7),range(1,7), range(1,7)]\n",
        "jugadas = np.array(list(itertools.product(*listas))) # producto cartesiano"
      ],
      "execution_count": null,
      "outputs": []
    },
    {
      "cell_type": "markdown",
      "metadata": {
        "id": "pwCAPFONExHK"
      },
      "source": [
        "1.) Encuentre la probabilidad de que la suma de los tres dados sea 9"
      ]
    },
    {
      "cell_type": "code",
      "metadata": {
        "id": "vbkLth0Z1xGh",
        "outputId": "6fae77ec-b02d-4242-806e-5c3b84ff13f2",
        "colab": {
          "base_uri": "https://localhost:8080/",
          "height": 34
        }
      },
      "source": [
        "#Escriba su código aquí"
      ],
      "execution_count": null,
      "outputs": [
        {
          "output_type": "execute_result",
          "data": {
            "text/plain": [
              "0.11574074074074074"
            ]
          },
          "metadata": {
            "tags": []
          },
          "execution_count": 53
        }
      ]
    },
    {
      "cell_type": "markdown",
      "metadata": {
        "id": "zg9He83LE4yK"
      },
      "source": [
        "2.) Encuentre la probabilidad de que al menos dos dados tenga un número par."
      ]
    },
    {
      "cell_type": "code",
      "metadata": {
        "id": "1WpacyNE6GX6",
        "outputId": "fd1bef21-9eec-4cc3-9c24-e62f6cd01086",
        "colab": {
          "base_uri": "https://localhost:8080/",
          "height": 34
        }
      },
      "source": [
        "#Escriba su código aquí"
      ],
      "execution_count": null,
      "outputs": [
        {
          "output_type": "stream",
          "text": [
            "La probabilidad de que al menos dos dados tengan número par es: 0.5\n"
          ],
          "name": "stdout"
        }
      ]
    },
    {
      "cell_type": "markdown",
      "metadata": {
        "id": "PSpsqlN0FIPS"
      },
      "source": [
        "3.) Encuentre la probabilidad de que dado al menos dos dados tengan un número par, la suma de todos los dados sea 9."
      ]
    },
    {
      "cell_type": "code",
      "metadata": {
        "id": "6pf60m-Y5rou",
        "outputId": "cdffcf8e-67aa-4502-8cb3-0e0b8cebe6d1",
        "colab": {
          "base_uri": "https://localhost:8080/",
          "height": 34
        }
      },
      "source": [
        "#Escriba su código aquí"
      ],
      "execution_count": null,
      "outputs": [
        {
          "output_type": "execute_result",
          "data": {
            "text/plain": [
              "0.08333333333333333"
            ]
          },
          "metadata": {
            "tags": []
          },
          "execution_count": 51
        }
      ]
    },
    {
      "cell_type": "code",
      "metadata": {
        "id": "kScI7xmS8BqI"
      },
      "source": [
        ""
      ],
      "execution_count": null,
      "outputs": []
    }
  ]
}