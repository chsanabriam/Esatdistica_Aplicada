{
  "nbformat": 4,
  "nbformat_minor": 0,
  "metadata": {
    "colab": {
      "name": "Taller_2.ipynb",
      "provenance": [],
      "collapsed_sections": [],
      "authorship_tag": "ABX9TyOwu99wFHAC/7gVgTTMa3AA",
      "include_colab_link": true
    },
    "kernelspec": {
      "name": "python3",
      "display_name": "Python 3"
    }
  },
  "cells": [
    {
      "cell_type": "markdown",
      "metadata": {
        "id": "view-in-github",
        "colab_type": "text"
      },
      "source": [
        "<a href=\"https://colab.research.google.com/github/chsanabriam/Esatdistica_Aplicada/blob/master/Taller_2.ipynb\" target=\"_parent\"><img src=\"https://colab.research.google.com/assets/colab-badge.svg\" alt=\"Open In Colab\"/></a>"
      ]
    },
    {
      "cell_type": "markdown",
      "metadata": {
        "id": "8gGRtibu_Ind",
        "colab_type": "text"
      },
      "source": [
        "#Taller 2"
      ]
    },
    {
      "cell_type": "code",
      "metadata": {
        "id": "Ebte9Xrj_fTg",
        "colab_type": "code",
        "colab": {}
      },
      "source": [
        "import pandas as pd\n",
        "import numpy as np\n",
        "from scipy import stats\n",
        "import matplotlib.pyplot as plt\n",
        "%matplotlib inline\n",
        "plt.style.use(\"ggplot\")"
      ],
      "execution_count": 1,
      "outputs": []
    },
    {
      "cell_type": "code",
      "metadata": {
        "id": "IdBzjcPO_FaN",
        "colab_type": "code",
        "colab": {
          "base_uri": "https://localhost:8080/",
          "height": 202
        },
        "outputId": "f58f5e90-e4af-447a-f395-7779df4507d8"
      },
      "source": [
        "!wget https://www.openintro.org/data/csv/loan50.csv"
      ],
      "execution_count": 2,
      "outputs": [
        {
          "output_type": "stream",
          "text": [
            "--2020-09-05 06:40:11--  https://www.openintro.org/data/csv/loan50.csv\n",
            "Resolving www.openintro.org (www.openintro.org)... 192.185.65.127\n",
            "Connecting to www.openintro.org (www.openintro.org)|192.185.65.127|:443... connected.\n",
            "HTTP request sent, awaiting response... 200 OK\n",
            "Length: 6714 (6.6K) [text/csv]\n",
            "Saving to: ‘loan50.csv’\n",
            "\n",
            "loan50.csv          100%[===================>]   6.56K  --.-KB/s    in 0s      \n",
            "\n",
            "2020-09-05 06:40:11 (154 MB/s) - ‘loan50.csv’ saved [6714/6714]\n",
            "\n"
          ],
          "name": "stdout"
        }
      ]
    },
    {
      "cell_type": "markdown",
      "metadata": {
        "id": "bHf9m1McCwQP",
        "colab_type": "text"
      },
      "source": [
        "Para este taller se va a utilizar un archivo de 50 prestamos ofrecidos por un club de prestamos. El archivo consta de 18 variables entre las cuales se encuentran el lugar de residencia del cliente (state), tipo de propiedad de la vivienda (homeownership), ingreso anual del cliente (annual_income), cantidad prestada (loan_amount), intereses (interest_rate), ingreso total (total_income), entre otroa."
      ]
    },
    {
      "cell_type": "code",
      "metadata": {
        "id": "E2HPj9Lm_me8",
        "colab_type": "code",
        "colab": {
          "base_uri": "https://localhost:8080/",
          "height": 215
        },
        "outputId": "a22110b3-6d3e-4f2f-c10c-c95fced34449"
      },
      "source": [
        "loan = pd.read_csv('loan50.csv')\n",
        "loan.head()"
      ],
      "execution_count": 3,
      "outputs": [
        {
          "output_type": "execute_result",
          "data": {
            "text/html": [
              "<div>\n",
              "<style scoped>\n",
              "    .dataframe tbody tr th:only-of-type {\n",
              "        vertical-align: middle;\n",
              "    }\n",
              "\n",
              "    .dataframe tbody tr th {\n",
              "        vertical-align: top;\n",
              "    }\n",
              "\n",
              "    .dataframe thead th {\n",
              "        text-align: right;\n",
              "    }\n",
              "</style>\n",
              "<table border=\"1\" class=\"dataframe\">\n",
              "  <thead>\n",
              "    <tr style=\"text-align: right;\">\n",
              "      <th></th>\n",
              "      <th>state</th>\n",
              "      <th>emp_length</th>\n",
              "      <th>term</th>\n",
              "      <th>homeownership</th>\n",
              "      <th>annual_income</th>\n",
              "      <th>verified_income</th>\n",
              "      <th>debt_to_income</th>\n",
              "      <th>total_credit_limit</th>\n",
              "      <th>total_credit_utilized</th>\n",
              "      <th>num_cc_carrying_balance</th>\n",
              "      <th>loan_purpose</th>\n",
              "      <th>loan_amount</th>\n",
              "      <th>grade</th>\n",
              "      <th>interest_rate</th>\n",
              "      <th>public_record_bankrupt</th>\n",
              "      <th>loan_status</th>\n",
              "      <th>has_second_income</th>\n",
              "      <th>total_income</th>\n",
              "    </tr>\n",
              "  </thead>\n",
              "  <tbody>\n",
              "    <tr>\n",
              "      <th>0</th>\n",
              "      <td>NJ</td>\n",
              "      <td>3.0</td>\n",
              "      <td>60</td>\n",
              "      <td>rent</td>\n",
              "      <td>59000.0</td>\n",
              "      <td>Not Verified</td>\n",
              "      <td>0.557525</td>\n",
              "      <td>95131</td>\n",
              "      <td>32894</td>\n",
              "      <td>8</td>\n",
              "      <td>debt_consolidation</td>\n",
              "      <td>22000</td>\n",
              "      <td>B</td>\n",
              "      <td>10.90</td>\n",
              "      <td>0</td>\n",
              "      <td>Current</td>\n",
              "      <td>False</td>\n",
              "      <td>59000.0</td>\n",
              "    </tr>\n",
              "    <tr>\n",
              "      <th>1</th>\n",
              "      <td>CA</td>\n",
              "      <td>10.0</td>\n",
              "      <td>36</td>\n",
              "      <td>rent</td>\n",
              "      <td>60000.0</td>\n",
              "      <td>Not Verified</td>\n",
              "      <td>1.305683</td>\n",
              "      <td>51929</td>\n",
              "      <td>78341</td>\n",
              "      <td>2</td>\n",
              "      <td>credit_card</td>\n",
              "      <td>6000</td>\n",
              "      <td>B</td>\n",
              "      <td>9.92</td>\n",
              "      <td>1</td>\n",
              "      <td>Current</td>\n",
              "      <td>False</td>\n",
              "      <td>60000.0</td>\n",
              "    </tr>\n",
              "    <tr>\n",
              "      <th>2</th>\n",
              "      <td>SC</td>\n",
              "      <td>NaN</td>\n",
              "      <td>36</td>\n",
              "      <td>mortgage</td>\n",
              "      <td>75000.0</td>\n",
              "      <td>Verified</td>\n",
              "      <td>1.056280</td>\n",
              "      <td>301373</td>\n",
              "      <td>79221</td>\n",
              "      <td>14</td>\n",
              "      <td>debt_consolidation</td>\n",
              "      <td>25000</td>\n",
              "      <td>E</td>\n",
              "      <td>26.30</td>\n",
              "      <td>0</td>\n",
              "      <td>Current</td>\n",
              "      <td>False</td>\n",
              "      <td>75000.0</td>\n",
              "    </tr>\n",
              "    <tr>\n",
              "      <th>3</th>\n",
              "      <td>CA</td>\n",
              "      <td>0.0</td>\n",
              "      <td>36</td>\n",
              "      <td>rent</td>\n",
              "      <td>75000.0</td>\n",
              "      <td>Not Verified</td>\n",
              "      <td>0.574347</td>\n",
              "      <td>59890</td>\n",
              "      <td>43076</td>\n",
              "      <td>10</td>\n",
              "      <td>credit_card</td>\n",
              "      <td>6000</td>\n",
              "      <td>B</td>\n",
              "      <td>9.92</td>\n",
              "      <td>0</td>\n",
              "      <td>Current</td>\n",
              "      <td>False</td>\n",
              "      <td>75000.0</td>\n",
              "    </tr>\n",
              "    <tr>\n",
              "      <th>4</th>\n",
              "      <td>OH</td>\n",
              "      <td>4.0</td>\n",
              "      <td>60</td>\n",
              "      <td>mortgage</td>\n",
              "      <td>254000.0</td>\n",
              "      <td>Not Verified</td>\n",
              "      <td>0.238150</td>\n",
              "      <td>422619</td>\n",
              "      <td>60490</td>\n",
              "      <td>2</td>\n",
              "      <td>home_improvement</td>\n",
              "      <td>25000</td>\n",
              "      <td>B</td>\n",
              "      <td>9.43</td>\n",
              "      <td>0</td>\n",
              "      <td>Current</td>\n",
              "      <td>False</td>\n",
              "      <td>254000.0</td>\n",
              "    </tr>\n",
              "  </tbody>\n",
              "</table>\n",
              "</div>"
            ],
            "text/plain": [
              "  state  emp_length  term  ... loan_status  has_second_income total_income\n",
              "0    NJ         3.0    60  ...     Current              False      59000.0\n",
              "1    CA        10.0    36  ...     Current              False      60000.0\n",
              "2    SC         NaN    36  ...     Current              False      75000.0\n",
              "3    CA         0.0    36  ...     Current              False      75000.0\n",
              "4    OH         4.0    60  ...     Current              False     254000.0\n",
              "\n",
              "[5 rows x 18 columns]"
            ]
          },
          "metadata": {
            "tags": []
          },
          "execution_count": 3
        }
      ]
    },
    {
      "cell_type": "markdown",
      "metadata": {
        "id": "yHUhlwH9FHL7",
        "colab_type": "text"
      },
      "source": [
        "##Punto 1\n",
        "* Realice un histograma de frecuencia para determinar cual es el mayor tipo de propiedad que tienen los clientes del club.\n",
        "* A partir de una tabla de frecuencias determine cual es el lugar de residencia donde más clientes viven "
      ]
    },
    {
      "cell_type": "code",
      "metadata": {
        "id": "fCpUKPH_D1hM",
        "colab_type": "code",
        "colab": {}
      },
      "source": [
        "# Ingrese su código aquí"
      ],
      "execution_count": 7,
      "outputs": []
    },
    {
      "cell_type": "markdown",
      "metadata": {
        "id": "_17vKgnoGIbe",
        "colab_type": "text"
      },
      "source": [
        "##Punto 2\n",
        "* Calcule el valor promedio, la mediana y la desviación estandar de los intereses prestados por el club.\n",
        "* Calcule el rango intercuartil de los ingresos anuales de ls clientes."
      ]
    },
    {
      "cell_type": "code",
      "metadata": {
        "id": "mL0lkym0GgrQ",
        "colab_type": "code",
        "colab": {}
      },
      "source": [
        "# Ingrese su código aquí"
      ],
      "execution_count": null,
      "outputs": []
    },
    {
      "cell_type": "markdown",
      "metadata": {
        "id": "MZ5FspcWGk1E",
        "colab_type": "text"
      },
      "source": [
        "##Punto 3\n",
        "* Haga un diagrama de cajas para los ingresos totales de los clientes.\n",
        "* Calcule el coeficiente de asimétria de la distriución así como la curtosis de la misma. ¿Es la ditribución simétrica?"
      ]
    },
    {
      "cell_type": "code",
      "metadata": {
        "id": "X96EVGErGHfZ",
        "colab_type": "code",
        "colab": {}
      },
      "source": [
        "# Ingrese su código aquí"
      ],
      "execution_count": null,
      "outputs": []
    },
    {
      "cell_type": "markdown",
      "metadata": {
        "id": "87ggHI5WHOLd",
        "colab_type": "text"
      },
      "source": [
        "##Punto 4\n",
        "* Haga un diagrama de dispersión entre el número de meses del prestamo (term) y el valor prestado (loan_amount). ¿Cree usted que el club le presta más dinero a un cliente siempre y cuando los meses para pagar el mismo sean mayores?\n",
        "* Responda la siguiente pregunta:\n",
        "¿Los intereses del prestamo al clientes son más bajos mientras el cliente tiene mejores ingresos?. Justifique su respuesta."
      ]
    },
    {
      "cell_type": "code",
      "metadata": {
        "id": "w01LdqfGHPnW",
        "colab_type": "code",
        "colab": {}
      },
      "source": [
        "# Ingrese su código aquí"
      ],
      "execution_count": 9,
      "outputs": []
    },
    {
      "cell_type": "markdown",
      "metadata": {
        "id": "OKaSEgtyJw6F",
        "colab_type": "text"
      },
      "source": [
        "## Bono\n",
        "Haga una tabla de contingencia para determinar el número de clientes por lugar de residencia y tipo de propiedad de la vivienda. Con la tabla anterior responda la siguiente pregunta: ¿Cual es el lugar de residencia que más clientes tienen casa propia?"
      ]
    },
    {
      "cell_type": "code",
      "metadata": {
        "id": "4Y3MUel5JwR2",
        "colab_type": "code",
        "colab": {}
      },
      "source": [
        ""
      ],
      "execution_count": null,
      "outputs": []
    }
  ]
}